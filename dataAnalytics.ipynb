{
 "cells": [
  {
   "cell_type": "markdown",
   "metadata": {},
   "source": [
    "# Jupyter Notebook for my UML Project"
   ]
  },
  {
   "cell_type": "markdown",
   "metadata": {},
   "source": [
    "## Import packages and data"
   ]
  },
  {
   "cell_type": "code",
   "execution_count": 1,
   "metadata": {},
   "outputs": [],
   "source": [
    "# import needed packages\n",
    "import pandas as pd\n",
    "import numpy as np\n",
    "import matplotlib.pyplot as plt\n",
    "import datetime as datetime\n",
    "import seaborn as snb\n",
    "\n",
    "# load data\n",
    "houses = pd.read_csv(\"kc_house_data.csv\")\n"
   ]
  },
  {
   "cell_type": "markdown",
   "metadata": {},
   "source": [
    "## Data analysis\n",
    "\n",
    "### Variables"
   ]
  },
  {
   "cell_type": "code",
   "execution_count": 2,
   "metadata": {},
   "outputs": [
    {
     "data": {
      "text/plain": [
       "Index(['id', 'date', 'price', 'bedrooms', 'bathrooms', 'sqft_living',\n",
       "       'sqft_lot', 'floors', 'waterfront', 'view', 'condition', 'grade',\n",
       "       'sqft_above', 'sqft_basement', 'yr_built', 'yr_renovated', 'zipcode',\n",
       "       'lat', 'long', 'sqft_living15', 'sqft_lot15'],\n",
       "      dtype='object')"
      ]
     },
     "execution_count": 2,
     "metadata": {},
     "output_type": "execute_result"
    }
   ],
   "source": [
    "houses.columns"
   ]
  },
  {
   "cell_type": "markdown",
   "metadata": {},
   "source": [
    "**Variable meaning:**\n",
    "\n",
    "id = Identify number\n",
    "\n",
    "date = Date when house was sold\n",
    "\n",
    "price = House price in dollar\n",
    "\n",
    "bedrooms = Count of bedrooms\n",
    "\n",
    "bathrooms = Count of bathrooms\n",
    "\n",
    "sqft_living = Living space\n",
    "\n",
    "sqft_lot = Square footage of house on land\n",
    "\n",
    "floors= Count of floors\n",
    "\n",
    "waterfront = House on the seaside or not (1/0)\n",
    "\n",
    "view = View point of house (0 - 4)\n",
    "\n",
    "condition = Conditions point of house (0 - 5)\n",
    "\n",
    "grade = Point of house (1 - 13)\n",
    "\n",
    "sqft_above = Square footage of the above ground\n",
    "\n",
    "sqft_basement = Square footage of the below ground\n",
    "\n",
    "yr_built = The year the house was build\n",
    "\n",
    "yr_renovated = The year the house was renovated\n",
    "\n",
    "zipcode = Zipcode of house\n",
    "\n",
    "lat = Lattitude\n",
    "\n",
    "long = Longitude\n",
    "\n",
    "sqft_living15 = Living space in houses,they were sold in 2015\n",
    "\n",
    "sqft_lot15 = Square footage of house on land,the houses sold in 2015\n",
    "\n",
    "\n"
   ]
  },
  {
   "cell_type": "markdown",
   "metadata": {},
   "source": [
    "### General Overview and summary statistics:"
   ]
  },
  {
   "cell_type": "code",
   "execution_count": 3,
   "metadata": {},
   "outputs": [
    {
     "name": "stdout",
     "output_type": "stream",
     "text": [
      "The dataset has 21613 rows and 21 columns\n",
      "head\n"
     ]
    },
    {
     "data": {
      "text/html": [
       "<div>\n",
       "<style scoped>\n",
       "    .dataframe tbody tr th:only-of-type {\n",
       "        vertical-align: middle;\n",
       "    }\n",
       "\n",
       "    .dataframe tbody tr th {\n",
       "        vertical-align: top;\n",
       "    }\n",
       "\n",
       "    .dataframe thead th {\n",
       "        text-align: right;\n",
       "    }\n",
       "</style>\n",
       "<table border=\"1\" class=\"dataframe\">\n",
       "  <thead>\n",
       "    <tr style=\"text-align: right;\">\n",
       "      <th></th>\n",
       "      <th>id</th>\n",
       "      <th>date</th>\n",
       "      <th>price</th>\n",
       "      <th>bedrooms</th>\n",
       "      <th>bathrooms</th>\n",
       "      <th>sqft_living</th>\n",
       "      <th>sqft_lot</th>\n",
       "      <th>floors</th>\n",
       "      <th>waterfront</th>\n",
       "      <th>view</th>\n",
       "      <th>...</th>\n",
       "      <th>grade</th>\n",
       "      <th>sqft_above</th>\n",
       "      <th>sqft_basement</th>\n",
       "      <th>yr_built</th>\n",
       "      <th>yr_renovated</th>\n",
       "      <th>zipcode</th>\n",
       "      <th>lat</th>\n",
       "      <th>long</th>\n",
       "      <th>sqft_living15</th>\n",
       "      <th>sqft_lot15</th>\n",
       "    </tr>\n",
       "  </thead>\n",
       "  <tbody>\n",
       "    <tr>\n",
       "      <th>0</th>\n",
       "      <td>7129300520</td>\n",
       "      <td>20141013T000000</td>\n",
       "      <td>221900.0</td>\n",
       "      <td>3</td>\n",
       "      <td>1.00</td>\n",
       "      <td>1180</td>\n",
       "      <td>5650</td>\n",
       "      <td>1.0</td>\n",
       "      <td>0</td>\n",
       "      <td>0</td>\n",
       "      <td>...</td>\n",
       "      <td>7</td>\n",
       "      <td>1180</td>\n",
       "      <td>0</td>\n",
       "      <td>1955</td>\n",
       "      <td>0</td>\n",
       "      <td>98178</td>\n",
       "      <td>47.5112</td>\n",
       "      <td>-122.257</td>\n",
       "      <td>1340</td>\n",
       "      <td>5650</td>\n",
       "    </tr>\n",
       "    <tr>\n",
       "      <th>1</th>\n",
       "      <td>6414100192</td>\n",
       "      <td>20141209T000000</td>\n",
       "      <td>538000.0</td>\n",
       "      <td>3</td>\n",
       "      <td>2.25</td>\n",
       "      <td>2570</td>\n",
       "      <td>7242</td>\n",
       "      <td>2.0</td>\n",
       "      <td>0</td>\n",
       "      <td>0</td>\n",
       "      <td>...</td>\n",
       "      <td>7</td>\n",
       "      <td>2170</td>\n",
       "      <td>400</td>\n",
       "      <td>1951</td>\n",
       "      <td>1991</td>\n",
       "      <td>98125</td>\n",
       "      <td>47.7210</td>\n",
       "      <td>-122.319</td>\n",
       "      <td>1690</td>\n",
       "      <td>7639</td>\n",
       "    </tr>\n",
       "    <tr>\n",
       "      <th>2</th>\n",
       "      <td>5631500400</td>\n",
       "      <td>20150225T000000</td>\n",
       "      <td>180000.0</td>\n",
       "      <td>2</td>\n",
       "      <td>1.00</td>\n",
       "      <td>770</td>\n",
       "      <td>10000</td>\n",
       "      <td>1.0</td>\n",
       "      <td>0</td>\n",
       "      <td>0</td>\n",
       "      <td>...</td>\n",
       "      <td>6</td>\n",
       "      <td>770</td>\n",
       "      <td>0</td>\n",
       "      <td>1933</td>\n",
       "      <td>0</td>\n",
       "      <td>98028</td>\n",
       "      <td>47.7379</td>\n",
       "      <td>-122.233</td>\n",
       "      <td>2720</td>\n",
       "      <td>8062</td>\n",
       "    </tr>\n",
       "    <tr>\n",
       "      <th>3</th>\n",
       "      <td>2487200875</td>\n",
       "      <td>20141209T000000</td>\n",
       "      <td>604000.0</td>\n",
       "      <td>4</td>\n",
       "      <td>3.00</td>\n",
       "      <td>1960</td>\n",
       "      <td>5000</td>\n",
       "      <td>1.0</td>\n",
       "      <td>0</td>\n",
       "      <td>0</td>\n",
       "      <td>...</td>\n",
       "      <td>7</td>\n",
       "      <td>1050</td>\n",
       "      <td>910</td>\n",
       "      <td>1965</td>\n",
       "      <td>0</td>\n",
       "      <td>98136</td>\n",
       "      <td>47.5208</td>\n",
       "      <td>-122.393</td>\n",
       "      <td>1360</td>\n",
       "      <td>5000</td>\n",
       "    </tr>\n",
       "    <tr>\n",
       "      <th>4</th>\n",
       "      <td>1954400510</td>\n",
       "      <td>20150218T000000</td>\n",
       "      <td>510000.0</td>\n",
       "      <td>3</td>\n",
       "      <td>2.00</td>\n",
       "      <td>1680</td>\n",
       "      <td>8080</td>\n",
       "      <td>1.0</td>\n",
       "      <td>0</td>\n",
       "      <td>0</td>\n",
       "      <td>...</td>\n",
       "      <td>8</td>\n",
       "      <td>1680</td>\n",
       "      <td>0</td>\n",
       "      <td>1987</td>\n",
       "      <td>0</td>\n",
       "      <td>98074</td>\n",
       "      <td>47.6168</td>\n",
       "      <td>-122.045</td>\n",
       "      <td>1800</td>\n",
       "      <td>7503</td>\n",
       "    </tr>\n",
       "  </tbody>\n",
       "</table>\n",
       "<p>5 rows × 21 columns</p>\n",
       "</div>"
      ],
      "text/plain": [
       "           id             date     price  bedrooms  bathrooms  sqft_living  \\\n",
       "0  7129300520  20141013T000000  221900.0         3       1.00         1180   \n",
       "1  6414100192  20141209T000000  538000.0         3       2.25         2570   \n",
       "2  5631500400  20150225T000000  180000.0         2       1.00          770   \n",
       "3  2487200875  20141209T000000  604000.0         4       3.00         1960   \n",
       "4  1954400510  20150218T000000  510000.0         3       2.00         1680   \n",
       "\n",
       "   sqft_lot  floors  waterfront  view  ...  grade  sqft_above  sqft_basement  \\\n",
       "0      5650     1.0           0     0  ...      7        1180              0   \n",
       "1      7242     2.0           0     0  ...      7        2170            400   \n",
       "2     10000     1.0           0     0  ...      6         770              0   \n",
       "3      5000     1.0           0     0  ...      7        1050            910   \n",
       "4      8080     1.0           0     0  ...      8        1680              0   \n",
       "\n",
       "   yr_built  yr_renovated  zipcode      lat     long  sqft_living15  \\\n",
       "0      1955             0    98178  47.5112 -122.257           1340   \n",
       "1      1951          1991    98125  47.7210 -122.319           1690   \n",
       "2      1933             0    98028  47.7379 -122.233           2720   \n",
       "3      1965             0    98136  47.5208 -122.393           1360   \n",
       "4      1987             0    98074  47.6168 -122.045           1800   \n",
       "\n",
       "   sqft_lot15  \n",
       "0        5650  \n",
       "1        7639  \n",
       "2        8062  \n",
       "3        5000  \n",
       "4        7503  \n",
       "\n",
       "[5 rows x 21 columns]"
      ]
     },
     "metadata": {},
     "output_type": "display_data"
    },
    {
     "name": "stdout",
     "output_type": "stream",
     "text": [
      "Summary Stats:\n"
     ]
    },
    {
     "data": {
      "text/html": [
       "<div>\n",
       "<style scoped>\n",
       "    .dataframe tbody tr th:only-of-type {\n",
       "        vertical-align: middle;\n",
       "    }\n",
       "\n",
       "    .dataframe tbody tr th {\n",
       "        vertical-align: top;\n",
       "    }\n",
       "\n",
       "    .dataframe thead th {\n",
       "        text-align: right;\n",
       "    }\n",
       "</style>\n",
       "<table border=\"1\" class=\"dataframe\">\n",
       "  <thead>\n",
       "    <tr style=\"text-align: right;\">\n",
       "      <th></th>\n",
       "      <th>id</th>\n",
       "      <th>price</th>\n",
       "      <th>bedrooms</th>\n",
       "      <th>bathrooms</th>\n",
       "      <th>sqft_living</th>\n",
       "      <th>sqft_lot</th>\n",
       "      <th>floors</th>\n",
       "      <th>waterfront</th>\n",
       "      <th>view</th>\n",
       "      <th>condition</th>\n",
       "      <th>grade</th>\n",
       "      <th>sqft_above</th>\n",
       "      <th>sqft_basement</th>\n",
       "      <th>yr_built</th>\n",
       "      <th>yr_renovated</th>\n",
       "      <th>zipcode</th>\n",
       "      <th>lat</th>\n",
       "      <th>long</th>\n",
       "      <th>sqft_living15</th>\n",
       "      <th>sqft_lot15</th>\n",
       "    </tr>\n",
       "  </thead>\n",
       "  <tbody>\n",
       "    <tr>\n",
       "      <th>count</th>\n",
       "      <td>2.161300e+04</td>\n",
       "      <td>2.161300e+04</td>\n",
       "      <td>21613.000000</td>\n",
       "      <td>21613.000000</td>\n",
       "      <td>21613.000000</td>\n",
       "      <td>2.161300e+04</td>\n",
       "      <td>21613.000000</td>\n",
       "      <td>21613.000000</td>\n",
       "      <td>21613.000000</td>\n",
       "      <td>21613.000000</td>\n",
       "      <td>21613.000000</td>\n",
       "      <td>21613.000000</td>\n",
       "      <td>21613.000000</td>\n",
       "      <td>21613.000000</td>\n",
       "      <td>21613.000000</td>\n",
       "      <td>21613.000000</td>\n",
       "      <td>21613.000000</td>\n",
       "      <td>21613.000000</td>\n",
       "      <td>21613.000000</td>\n",
       "      <td>21613.000000</td>\n",
       "    </tr>\n",
       "    <tr>\n",
       "      <th>mean</th>\n",
       "      <td>4.580302e+09</td>\n",
       "      <td>5.400881e+05</td>\n",
       "      <td>3.370842</td>\n",
       "      <td>2.114757</td>\n",
       "      <td>2079.899736</td>\n",
       "      <td>1.510697e+04</td>\n",
       "      <td>1.494309</td>\n",
       "      <td>0.007542</td>\n",
       "      <td>0.234303</td>\n",
       "      <td>3.409430</td>\n",
       "      <td>7.656873</td>\n",
       "      <td>1788.390691</td>\n",
       "      <td>291.509045</td>\n",
       "      <td>1971.005136</td>\n",
       "      <td>84.402258</td>\n",
       "      <td>98077.939805</td>\n",
       "      <td>47.560053</td>\n",
       "      <td>-122.213896</td>\n",
       "      <td>1986.552492</td>\n",
       "      <td>12768.455652</td>\n",
       "    </tr>\n",
       "    <tr>\n",
       "      <th>std</th>\n",
       "      <td>2.876566e+09</td>\n",
       "      <td>3.671272e+05</td>\n",
       "      <td>0.930062</td>\n",
       "      <td>0.770163</td>\n",
       "      <td>918.440897</td>\n",
       "      <td>4.142051e+04</td>\n",
       "      <td>0.539989</td>\n",
       "      <td>0.086517</td>\n",
       "      <td>0.766318</td>\n",
       "      <td>0.650743</td>\n",
       "      <td>1.175459</td>\n",
       "      <td>828.090978</td>\n",
       "      <td>442.575043</td>\n",
       "      <td>29.373411</td>\n",
       "      <td>401.679240</td>\n",
       "      <td>53.505026</td>\n",
       "      <td>0.138564</td>\n",
       "      <td>0.140828</td>\n",
       "      <td>685.391304</td>\n",
       "      <td>27304.179631</td>\n",
       "    </tr>\n",
       "    <tr>\n",
       "      <th>min</th>\n",
       "      <td>1.000102e+06</td>\n",
       "      <td>7.500000e+04</td>\n",
       "      <td>0.000000</td>\n",
       "      <td>0.000000</td>\n",
       "      <td>290.000000</td>\n",
       "      <td>5.200000e+02</td>\n",
       "      <td>1.000000</td>\n",
       "      <td>0.000000</td>\n",
       "      <td>0.000000</td>\n",
       "      <td>1.000000</td>\n",
       "      <td>1.000000</td>\n",
       "      <td>290.000000</td>\n",
       "      <td>0.000000</td>\n",
       "      <td>1900.000000</td>\n",
       "      <td>0.000000</td>\n",
       "      <td>98001.000000</td>\n",
       "      <td>47.155900</td>\n",
       "      <td>-122.519000</td>\n",
       "      <td>399.000000</td>\n",
       "      <td>651.000000</td>\n",
       "    </tr>\n",
       "    <tr>\n",
       "      <th>25%</th>\n",
       "      <td>2.123049e+09</td>\n",
       "      <td>3.219500e+05</td>\n",
       "      <td>3.000000</td>\n",
       "      <td>1.750000</td>\n",
       "      <td>1427.000000</td>\n",
       "      <td>5.040000e+03</td>\n",
       "      <td>1.000000</td>\n",
       "      <td>0.000000</td>\n",
       "      <td>0.000000</td>\n",
       "      <td>3.000000</td>\n",
       "      <td>7.000000</td>\n",
       "      <td>1190.000000</td>\n",
       "      <td>0.000000</td>\n",
       "      <td>1951.000000</td>\n",
       "      <td>0.000000</td>\n",
       "      <td>98033.000000</td>\n",
       "      <td>47.471000</td>\n",
       "      <td>-122.328000</td>\n",
       "      <td>1490.000000</td>\n",
       "      <td>5100.000000</td>\n",
       "    </tr>\n",
       "    <tr>\n",
       "      <th>50%</th>\n",
       "      <td>3.904930e+09</td>\n",
       "      <td>4.500000e+05</td>\n",
       "      <td>3.000000</td>\n",
       "      <td>2.250000</td>\n",
       "      <td>1910.000000</td>\n",
       "      <td>7.618000e+03</td>\n",
       "      <td>1.500000</td>\n",
       "      <td>0.000000</td>\n",
       "      <td>0.000000</td>\n",
       "      <td>3.000000</td>\n",
       "      <td>7.000000</td>\n",
       "      <td>1560.000000</td>\n",
       "      <td>0.000000</td>\n",
       "      <td>1975.000000</td>\n",
       "      <td>0.000000</td>\n",
       "      <td>98065.000000</td>\n",
       "      <td>47.571800</td>\n",
       "      <td>-122.230000</td>\n",
       "      <td>1840.000000</td>\n",
       "      <td>7620.000000</td>\n",
       "    </tr>\n",
       "    <tr>\n",
       "      <th>75%</th>\n",
       "      <td>7.308900e+09</td>\n",
       "      <td>6.450000e+05</td>\n",
       "      <td>4.000000</td>\n",
       "      <td>2.500000</td>\n",
       "      <td>2550.000000</td>\n",
       "      <td>1.068800e+04</td>\n",
       "      <td>2.000000</td>\n",
       "      <td>0.000000</td>\n",
       "      <td>0.000000</td>\n",
       "      <td>4.000000</td>\n",
       "      <td>8.000000</td>\n",
       "      <td>2210.000000</td>\n",
       "      <td>560.000000</td>\n",
       "      <td>1997.000000</td>\n",
       "      <td>0.000000</td>\n",
       "      <td>98118.000000</td>\n",
       "      <td>47.678000</td>\n",
       "      <td>-122.125000</td>\n",
       "      <td>2360.000000</td>\n",
       "      <td>10083.000000</td>\n",
       "    </tr>\n",
       "    <tr>\n",
       "      <th>max</th>\n",
       "      <td>9.900000e+09</td>\n",
       "      <td>7.700000e+06</td>\n",
       "      <td>33.000000</td>\n",
       "      <td>8.000000</td>\n",
       "      <td>13540.000000</td>\n",
       "      <td>1.651359e+06</td>\n",
       "      <td>3.500000</td>\n",
       "      <td>1.000000</td>\n",
       "      <td>4.000000</td>\n",
       "      <td>5.000000</td>\n",
       "      <td>13.000000</td>\n",
       "      <td>9410.000000</td>\n",
       "      <td>4820.000000</td>\n",
       "      <td>2015.000000</td>\n",
       "      <td>2015.000000</td>\n",
       "      <td>98199.000000</td>\n",
       "      <td>47.777600</td>\n",
       "      <td>-121.315000</td>\n",
       "      <td>6210.000000</td>\n",
       "      <td>871200.000000</td>\n",
       "    </tr>\n",
       "  </tbody>\n",
       "</table>\n",
       "</div>"
      ],
      "text/plain": [
       "                 id         price      bedrooms     bathrooms   sqft_living  \\\n",
       "count  2.161300e+04  2.161300e+04  21613.000000  21613.000000  21613.000000   \n",
       "mean   4.580302e+09  5.400881e+05      3.370842      2.114757   2079.899736   \n",
       "std    2.876566e+09  3.671272e+05      0.930062      0.770163    918.440897   \n",
       "min    1.000102e+06  7.500000e+04      0.000000      0.000000    290.000000   \n",
       "25%    2.123049e+09  3.219500e+05      3.000000      1.750000   1427.000000   \n",
       "50%    3.904930e+09  4.500000e+05      3.000000      2.250000   1910.000000   \n",
       "75%    7.308900e+09  6.450000e+05      4.000000      2.500000   2550.000000   \n",
       "max    9.900000e+09  7.700000e+06     33.000000      8.000000  13540.000000   \n",
       "\n",
       "           sqft_lot        floors    waterfront          view     condition  \\\n",
       "count  2.161300e+04  21613.000000  21613.000000  21613.000000  21613.000000   \n",
       "mean   1.510697e+04      1.494309      0.007542      0.234303      3.409430   \n",
       "std    4.142051e+04      0.539989      0.086517      0.766318      0.650743   \n",
       "min    5.200000e+02      1.000000      0.000000      0.000000      1.000000   \n",
       "25%    5.040000e+03      1.000000      0.000000      0.000000      3.000000   \n",
       "50%    7.618000e+03      1.500000      0.000000      0.000000      3.000000   \n",
       "75%    1.068800e+04      2.000000      0.000000      0.000000      4.000000   \n",
       "max    1.651359e+06      3.500000      1.000000      4.000000      5.000000   \n",
       "\n",
       "              grade    sqft_above  sqft_basement      yr_built  yr_renovated  \\\n",
       "count  21613.000000  21613.000000   21613.000000  21613.000000  21613.000000   \n",
       "mean       7.656873   1788.390691     291.509045   1971.005136     84.402258   \n",
       "std        1.175459    828.090978     442.575043     29.373411    401.679240   \n",
       "min        1.000000    290.000000       0.000000   1900.000000      0.000000   \n",
       "25%        7.000000   1190.000000       0.000000   1951.000000      0.000000   \n",
       "50%        7.000000   1560.000000       0.000000   1975.000000      0.000000   \n",
       "75%        8.000000   2210.000000     560.000000   1997.000000      0.000000   \n",
       "max       13.000000   9410.000000    4820.000000   2015.000000   2015.000000   \n",
       "\n",
       "            zipcode           lat          long  sqft_living15     sqft_lot15  \n",
       "count  21613.000000  21613.000000  21613.000000   21613.000000   21613.000000  \n",
       "mean   98077.939805     47.560053   -122.213896    1986.552492   12768.455652  \n",
       "std       53.505026      0.138564      0.140828     685.391304   27304.179631  \n",
       "min    98001.000000     47.155900   -122.519000     399.000000     651.000000  \n",
       "25%    98033.000000     47.471000   -122.328000    1490.000000    5100.000000  \n",
       "50%    98065.000000     47.571800   -122.230000    1840.000000    7620.000000  \n",
       "75%    98118.000000     47.678000   -122.125000    2360.000000   10083.000000  \n",
       "max    98199.000000     47.777600   -121.315000    6210.000000  871200.000000  "
      ]
     },
     "metadata": {},
     "output_type": "display_data"
    },
    {
     "name": "stdout",
     "output_type": "stream",
     "text": [
      "Datatypes:\n"
     ]
    },
    {
     "data": {
      "text/plain": [
       "id                 int64\n",
       "date              object\n",
       "price            float64\n",
       "bedrooms           int64\n",
       "bathrooms        float64\n",
       "sqft_living        int64\n",
       "sqft_lot           int64\n",
       "floors           float64\n",
       "waterfront         int64\n",
       "view               int64\n",
       "condition          int64\n",
       "grade              int64\n",
       "sqft_above         int64\n",
       "sqft_basement      int64\n",
       "yr_built           int64\n",
       "yr_renovated       int64\n",
       "zipcode            int64\n",
       "lat              float64\n",
       "long             float64\n",
       "sqft_living15      int64\n",
       "sqft_lot15         int64\n",
       "dtype: object"
      ]
     },
     "metadata": {},
     "output_type": "display_data"
    },
    {
     "name": "stdout",
     "output_type": "stream",
     "text": [
      "Missing Values:\n"
     ]
    },
    {
     "data": {
      "text/plain": [
       "id               0\n",
       "date             0\n",
       "price            0\n",
       "bedrooms         0\n",
       "bathrooms        0\n",
       "sqft_living      0\n",
       "sqft_lot         0\n",
       "floors           0\n",
       "waterfront       0\n",
       "view             0\n",
       "condition        0\n",
       "grade            0\n",
       "sqft_above       0\n",
       "sqft_basement    0\n",
       "yr_built         0\n",
       "yr_renovated     0\n",
       "zipcode          0\n",
       "lat              0\n",
       "long             0\n",
       "sqft_living15    0\n",
       "sqft_lot15       0\n",
       "dtype: int64"
      ]
     },
     "metadata": {},
     "output_type": "display_data"
    },
    {
     "name": "stdout",
     "output_type": "stream",
     "text": [
      "There are no missing values\n"
     ]
    }
   ],
   "source": [
    "# overview\n",
    "print(\"The dataset has {} rows and {} columns\".format(houses.shape[0], houses.shape[1]))\n",
    "\n",
    "# head of data\n",
    "print(\"head\")\n",
    "display(houses.head(n=5))\n",
    "\n",
    "#summary stats of data\n",
    "print(\"Summary Stats:\")\n",
    "display(houses.describe())\n",
    "\n",
    "#datatype of variables\n",
    "print(\"Datatypes:\")\n",
    "display(houses.dtypes)\n",
    "\n",
    "#show missing values per column\n",
    "print(\"Missing Values:\")\n",
    "display(houses.isnull().sum())\n",
    "print(\"There are no missing values\")\n"
   ]
  },
  {
   "cell_type": "markdown",
   "metadata": {},
   "source": [
    "### Transformation of variables and filtering of data\n",
    "\n",
    "#### variable id:"
   ]
  },
  {
   "cell_type": "code",
   "execution_count": 4,
   "metadata": {},
   "outputs": [
    {
     "data": {
      "text/html": [
       "<div>\n",
       "<style scoped>\n",
       "    .dataframe tbody tr th:only-of-type {\n",
       "        vertical-align: middle;\n",
       "    }\n",
       "\n",
       "    .dataframe tbody tr th {\n",
       "        vertical-align: top;\n",
       "    }\n",
       "\n",
       "    .dataframe thead th {\n",
       "        text-align: right;\n",
       "    }\n",
       "</style>\n",
       "<table border=\"1\" class=\"dataframe\">\n",
       "  <thead>\n",
       "    <tr style=\"text-align: right;\">\n",
       "      <th></th>\n",
       "      <th>date</th>\n",
       "      <th>price</th>\n",
       "      <th>bedrooms</th>\n",
       "      <th>bathrooms</th>\n",
       "      <th>sqft_living</th>\n",
       "      <th>sqft_lot</th>\n",
       "      <th>floors</th>\n",
       "      <th>waterfront</th>\n",
       "      <th>view</th>\n",
       "      <th>condition</th>\n",
       "      <th>grade</th>\n",
       "      <th>sqft_above</th>\n",
       "      <th>sqft_basement</th>\n",
       "      <th>yr_built</th>\n",
       "      <th>yr_renovated</th>\n",
       "      <th>zipcode</th>\n",
       "      <th>lat</th>\n",
       "      <th>long</th>\n",
       "      <th>sqft_living15</th>\n",
       "      <th>sqft_lot15</th>\n",
       "    </tr>\n",
       "  </thead>\n",
       "  <tbody>\n",
       "    <tr>\n",
       "      <th>0</th>\n",
       "      <td>20141013T000000</td>\n",
       "      <td>221900.0</td>\n",
       "      <td>3</td>\n",
       "      <td>1.0</td>\n",
       "      <td>1180</td>\n",
       "      <td>5650</td>\n",
       "      <td>1.0</td>\n",
       "      <td>0</td>\n",
       "      <td>0</td>\n",
       "      <td>3</td>\n",
       "      <td>7</td>\n",
       "      <td>1180</td>\n",
       "      <td>0</td>\n",
       "      <td>1955</td>\n",
       "      <td>0</td>\n",
       "      <td>98178</td>\n",
       "      <td>47.5112</td>\n",
       "      <td>-122.257</td>\n",
       "      <td>1340</td>\n",
       "      <td>5650</td>\n",
       "    </tr>\n",
       "  </tbody>\n",
       "</table>\n",
       "</div>"
      ],
      "text/plain": [
       "              date     price  bedrooms  bathrooms  sqft_living  sqft_lot  \\\n",
       "0  20141013T000000  221900.0         3        1.0         1180      5650   \n",
       "\n",
       "   floors  waterfront  view  condition  grade  sqft_above  sqft_basement  \\\n",
       "0     1.0           0     0          3      7        1180              0   \n",
       "\n",
       "   yr_built  yr_renovated  zipcode      lat     long  sqft_living15  \\\n",
       "0      1955             0    98178  47.5112 -122.257           1340   \n",
       "\n",
       "   sqft_lot15  \n",
       "0        5650  "
      ]
     },
     "execution_count": 4,
     "metadata": {},
     "output_type": "execute_result"
    }
   ],
   "source": [
    "# remove variable id because it is not of any value here\n",
    "houses = houses.drop(\"id\", axis=1)\n",
    "houses.head(1)"
   ]
  },
  {
   "cell_type": "markdown",
   "metadata": {},
   "source": [
    "#### variable date:\n",
    "Because date is a string variable, convert it to a datetime variable"
   ]
  },
  {
   "cell_type": "code",
   "execution_count": 5,
   "metadata": {},
   "outputs": [
    {
     "name": "stdout",
     "output_type": "stream",
     "text": [
      "New datatype:\n"
     ]
    },
    {
     "data": {
      "text/plain": [
       "dtype('<M8[ns]')"
      ]
     },
     "metadata": {},
     "output_type": "display_data"
    },
    {
     "name": "stdout",
     "output_type": "stream",
     "text": [
      "First date in timeseries:\n"
     ]
    },
    {
     "data": {
      "text/plain": [
       "array(['2014-05-02T00:00:00.000000000'], dtype='datetime64[ns]')"
      ]
     },
     "metadata": {},
     "output_type": "display_data"
    },
    {
     "name": "stdout",
     "output_type": "stream",
     "text": [
      "Last date in timeseries\n"
     ]
    },
    {
     "data": {
      "text/plain": [
       "array(['2015-05-27T00:00:00.000000000'], dtype='datetime64[ns]')"
      ]
     },
     "metadata": {},
     "output_type": "display_data"
    },
    {
     "name": "stdout",
     "output_type": "stream",
     "text": [
      "Plot with regression line:\n"
     ]
    },
    {
     "data": {
      "image/png": "[encoded data removed]",
      "text/plain": [
       "<Figure size 432x288 with 1 Axes>"
      ]
     },
     "metadata": {
      "needs_background": "light"
     },
     "output_type": "display_data"
    },
    {
     "name": "stdout",
     "output_type": "stream",
     "text": [
      "b=10946780.412601756\n",
      "m=-14.148462736749375\n",
      "There seems not to be a strong correlation. After all the time impact is only a reduction in price of 14 dollars\n"
     ]
    }
   ],
   "source": [
    "# date column as series\n",
    "string = houses[\"date\"]\n",
    "\n",
    "# slice string to remove unnessecary characters\n",
    "string = string.str.slice(0,8)\n",
    "\n",
    "# convert series to datetime\n",
    "date = pd.to_datetime(string, \n",
    "                     format= \"%Y%m%d\")\n",
    "\n",
    "# replace date variable in housesFinal dataframe\n",
    "houses[\"date\"] = date\n",
    "\n",
    "# Look at datatype and format of date after transformation\n",
    "print(\"New datatype:\")\n",
    "display(houses[\"date\"].dtypes)\n",
    "\n",
    "# First date\n",
    "print(\"First date in timeseries:\")\n",
    "display(houses.loc[(houses[\"date\"] == min(houses[\"date\"])), \"date\"].unique())\n",
    "\n",
    "# Last date\n",
    "print(\"Last date in timeseries\")\n",
    "display(houses.loc[(houses[\"date\"] == max(houses[\"date\"])), \"date\"].unique())\n",
    "\n",
    "# scatterplot\n",
    "\n",
    "## to also plot regression line convert date to ordinal\n",
    "x = houses['date'].map(datetime.datetime.toordinal)\n",
    "y = houses[\"price\"]\n",
    "## calculate b and m of linear regression\n",
    "m, b = np.polyfit(x, y, 1)\n",
    "\n",
    "## plot relationship\n",
    "print(\"Plot with regression line:\")\n",
    "plt.plot(x, y, 'o')\n",
    "plt.plot(x, m*x + b)\n",
    "plt.show()\n",
    "\n",
    "print(\"b=\"+str(b))\n",
    "print(\"m=\"+str(m))\n",
    "\n",
    "print(\"There seems not to be a strong correlation. After all the time impact is only a reduction in price of 14 dollars\")\n"
   ]
  },
  {
   "cell_type": "markdown",
   "metadata": {},
   "source": [
    "#### variable price:"
   ]
  },
  {
   "cell_type": "code",
   "execution_count": 6,
   "metadata": {
    "scrolled": false
   },
   "outputs": [
    {
     "name": "stdout",
     "output_type": "stream",
     "text": [
      "Boxplot:\n"
     ]
    },
    {
     "data": {
      "image/png": "[encoded data removed]",
      "text/plain": [
       "<Figure size 432x288 with 1 Axes>"
      ]
     },
     "metadata": {
      "needs_background": "light"
     },
     "output_type": "display_data"
    },
    {
     "name": "stdout",
     "output_type": "stream",
     "text": [
      "Histogramm:\n"
     ]
    },
    {
     "data": {
      "image/png": "[encoded data removed]",
      "text/plain": [
       "<Figure size 432x288 with 1 Axes>"
      ]
     },
     "metadata": {
      "needs_background": "light"
     },
     "output_type": "display_data"
    },
    {
     "name": "stdout",
     "output_type": "stream",
     "text": [
      "Skewed distribution\n",
      "Minimum price reasonable?\n",
      "75000.0->yes\n"
     ]
    }
   ],
   "source": [
    "# Boxplot\n",
    "print(\"Boxplot:\")\n",
    "plt.boxplot(x=houses[\"price\"])\n",
    "plt.show()\n",
    "\n",
    "# Histogramm\n",
    "print(\"Histogramm:\")\n",
    "plt.hist(x=houses[\"price\"], bins=1000)\n",
    "plt.show()\n",
    "\n",
    "# Minimum price\n",
    "print(\"Skewed distribution\")\n",
    "\n",
    "# Is minimum price reliable?\n",
    "print(\"Minimum price reasonable?\")\n",
    "print(str(min(houses[\"price\"]))+\"->yes\")\n",
    "\n"
   ]
  },
  {
   "cell_type": "markdown",
   "metadata": {},
   "source": [
    "#### variable bedroom:"
   ]
  },
  {
   "cell_type": "code",
   "execution_count": 7,
   "metadata": {},
   "outputs": [
    {
     "name": "stdout",
     "output_type": "stream",
     "text": [
      "Count per number of bedrooms\n",
      "3     9824\n",
      "4     6882\n",
      "2     2760\n",
      "5     1601\n",
      "6      272\n",
      "1      199\n",
      "7       38\n",
      "8       13\n",
      "0       13\n",
      "9        6\n",
      "10       3\n",
      "33       1\n",
      "11       1\n",
      "Name: bedrooms, dtype: int64\n",
      "Mean price for each number of bedrooms:\n"
     ]
    },
    {
     "data": {
      "text/plain": [
       "<seaborn.axisgrid.FacetGrid at 0x1ef91d211f0>"
      ]
     },
     "execution_count": 7,
     "metadata": {},
     "output_type": "execute_result"
    },
    {
     "data": {
      "image/png": "[encoded data removed]",
      "text/plain": [
       "<Figure size 360x360 with 1 Axes>"
      ]
     },
     "metadata": {
      "needs_background": "light"
     },
     "output_type": "display_data"
    }
   ],
   "source": [
    "# bedrooms as categorical variable\n",
    "houses[\"bedrooms\"] = houses[\"bedrooms\"].astype(\"category\")\n",
    "\n",
    "# count per number of bedrooms \n",
    "print(\"Count per number of bedrooms\")\n",
    "print(houses[\"bedrooms\"].value_counts())\n",
    "\n",
    "# reorder categories\n",
    "bedroom_categories =[0,1,2,3,4,5,6,7,8,9,10,11,33]\n",
    "houses[\"bedrooms\"] = pd.Categorical(houses[\"bedrooms\"], categories=bedroom_categories)\n",
    "\n",
    "# mean price per bedroom count\n",
    "bedrooms_mean = houses.groupby(\"bedrooms\", as_index=False)[\"price\"].mean()\n",
    "\n",
    "# barplot\n",
    "print(\"Mean price for each number of bedrooms:\")\n",
    "snb.catplot(x=\"bedrooms\", y=\"price\", data=bedrooms_mean, kind=\"bar\")"
   ]
  },
  {
   "cell_type": "markdown",
   "metadata": {},
   "source": [
    "**Need to remove 0, 11 and 33 bedrooms from data because either missing data (when 0) or only 1 observation (11 and 33)**"
   ]
  },
  {
   "cell_type": "code",
   "execution_count": 8,
   "metadata": {},
   "outputs": [
    {
     "name": "stdout",
     "output_type": "stream",
     "text": [
      "Mean price for each number of bedrooms:\n"
     ]
    },
    {
     "data": {
      "text/plain": [
       "<seaborn.axisgrid.FacetGrid at 0x1ef91d21e50>"
      ]
     },
     "execution_count": 8,
     "metadata": {},
     "output_type": "execute_result"
    },
    {
     "data": {
      "image/png": "[encoded data removed]",
      "text/plain": [
       "<Figure size 360x360 with 1 Axes>"
      ]
     },
     "metadata": {
      "needs_background": "light"
     },
     "output_type": "display_data"
    }
   ],
   "source": [
    "# Remove observations with 0, 11 and 33 bedrooms\n",
    "houses = houses.loc[ ~ houses[\"bedrooms\"].isin([0,11,33]), ]\n",
    "\n",
    "# Remove the categories as well\n",
    "houses[\"bedrooms\"] = houses[\"bedrooms\"].cat.remove_categories(removals=[0,11,33])\n",
    "\n",
    "# mean price per bedroom count\n",
    "bedrooms_mean = houses.groupby(\"bedrooms\", as_index=False)[\"price\"].mean()\n",
    "\n",
    "# barplot\n",
    "print(\"Mean price for each number of bedrooms:\")\n",
    "snb.catplot(x=\"bedrooms\", y=\"price\", data=bedrooms_mean, kind=\"bar\")\n"
   ]
  },
  {
   "cell_type": "markdown",
   "metadata": {},
   "source": [
    "#### variable bathrooms:"
   ]
  },
  {
   "cell_type": "code",
   "execution_count": 9,
   "metadata": {},
   "outputs": [
    {
     "name": "stdout",
     "output_type": "stream",
     "text": [
      "[1.   2.25 3.   2.   4.5  1.5  2.5  1.75 2.75 3.25 4.   3.5  0.75 4.75\n",
      " 5.   4.25 3.75 1.25 0.   5.25 6.   0.5  5.5  6.75 5.75 8.   7.5  7.75\n",
      " 6.25 6.5 ]\n",
      "Count per number of bathrooms\n",
      "2.0    13846\n",
      "1.0     3931\n",
      "3.0     2526\n",
      "4.0     1201\n",
      "5.0       57\n",
      "6.0       24\n",
      "0.0        7\n",
      "8.0        4\n",
      "7.0        2\n",
      "Name: bathrooms, dtype: int64\n",
      "Mean price for each number of bedrooms:\n"
     ]
    },
    {
     "data": {
      "text/plain": [
       "<seaborn.axisgrid.FacetGrid at 0x1ef97c013d0>"
      ]
     },
     "execution_count": 9,
     "metadata": {},
     "output_type": "execute_result"
    },
    {
     "data": {
      "image/png": "[encoded data removed]",
      "text/plain": [
       "<Figure size 360x360 with 1 Axes>"
      ]
     },
     "metadata": {
      "needs_background": "light"
     },
     "output_type": "display_data"
    }
   ],
   "source": [
    "# values \n",
    "print(houses[\"bathrooms\"].unique())\n",
    "\n",
    "# apply round function to bathrooms array and append as new column \n",
    "houses[\"bathrooms\"] = houses[\"bathrooms\"].round()\n",
    "\n",
    "# bathrooms as categorical variable\n",
    "houses[\"bathrooms\"] = houses[\"bathrooms\"].astype(\"category\")\n",
    "\n",
    "# count per number of bathrooms\n",
    "print(\"Count per number of bathrooms\")\n",
    "print(houses[\"bathrooms\"].value_counts())\n",
    "\n",
    "# reorder categories\n",
    "bathroom_categories = np.sort(np.array(houses[\"bathrooms\"].unique()))\n",
    "houses[\"bathrooms\"] = pd.Categorical(houses[\"bathrooms\"], categories=bathroom_categories)\n",
    "\n",
    "# mean price per bathroom count\n",
    "bathrooms_mean = houses.groupby(\"bathrooms\", as_index=False)[\"price\"].mean()\n",
    "\n",
    "# barplot\n",
    "print(\"Mean price for each number of bedrooms:\")\n",
    "snb.catplot(x=\"bathrooms\", y=\"price\", data=bathrooms_mean, kind=\"bar\")\n"
   ]
  },
  {
   "cell_type": "markdown",
   "metadata": {},
   "source": [
    "#### variable sqft_living:"
   ]
  },
  {
   "cell_type": "code",
   "execution_count": 10,
   "metadata": {},
   "outputs": [
    {
     "name": "stdout",
     "output_type": "stream",
     "text": [
      "Boxplot:\n"
     ]
    },
    {
     "data": {
      "image/png": "[encoded data removed]",
      "text/plain": [
       "<Figure size 432x288 with 1 Axes>"
      ]
     },
     "metadata": {
      "needs_background": "light"
     },
     "output_type": "display_data"
    },
    {
     "name": "stdout",
     "output_type": "stream",
     "text": [
      "Histogramm:\n"
     ]
    },
    {
     "data": {
      "image/png": "[encoded data removed]",
      "text/plain": [
       "<Figure size 432x288 with 1 Axes>"
      ]
     },
     "metadata": {
      "needs_background": "light"
     },
     "output_type": "display_data"
    },
    {
     "name": "stdout",
     "output_type": "stream",
     "text": [
      "Skewed distribution\n",
      "Minimum sqft_living reasonable?\n",
      "370->yes\n",
      "Plot with regression line:\n"
     ]
    },
    {
     "data": {
      "image/png": "[encoded data removed]",
      "text/plain": [
       "<Figure size 432x288 with 1 Axes>"
      ]
     },
     "metadata": {
      "needs_background": "light"
     },
     "output_type": "display_data"
    },
    {
     "name": "stdout",
     "output_type": "stream",
     "text": [
      "b=-43654.475875488526\n",
      "m=280.6676871723894\n",
      "Positive correlation between the two variables\n"
     ]
    }
   ],
   "source": [
    "# Boxplot\n",
    "print(\"Boxplot:\")\n",
    "plt.boxplot(x=houses[\"sqft_living\"])\n",
    "plt.show()\n",
    "\n",
    "# Histogramm\n",
    "print(\"Histogramm:\")\n",
    "plt.hist(x=houses[\"sqft_living\"], bins=1000)\n",
    "plt.show()\n",
    "\n",
    "print(\"Skewed distribution\")\n",
    "\n",
    "# Is minimum sqft_living reliable?\n",
    "print(\"Minimum sqft_living reasonable?\")\n",
    "print(str(min(houses[\"sqft_living\"]))+\"->yes\")\n",
    "\n",
    "# scatterplot\n",
    "\n",
    "## define x and y\n",
    "x = houses['sqft_living']\n",
    "y = houses[\"price\"]\n",
    "## calculate b and m of linear regression\n",
    "m, b = np.polyfit(x, y, 1)\n",
    "\n",
    "## plot relationship\n",
    "print(\"Plot with regression line:\")\n",
    "plt.plot(x, y, 'o')\n",
    "plt.plot(x, m*x + b)\n",
    "plt.show()\n",
    "\n",
    "print(\"b=\"+str(b))\n",
    "print(\"m=\"+str(m))\n",
    "\n",
    "print(\"Positive correlation between the two variables\")\n"
   ]
  },
  {
   "cell_type": "markdown",
   "metadata": {},
   "source": [
    "#### variable sqft_lot:"
   ]
  },
  {
   "cell_type": "code",
   "execution_count": 11,
   "metadata": {},
   "outputs": [
    {
     "name": "stdout",
     "output_type": "stream",
     "text": [
      "Boxplot:\n"
     ]
    },
    {
     "data": {
      "image/png": "[encoded data removed]",
      "text/plain": [
       "<Figure size 432x288 with 1 Axes>"
      ]
     },
     "metadata": {
      "needs_background": "light"
     },
     "output_type": "display_data"
    },
    {
     "name": "stdout",
     "output_type": "stream",
     "text": [
      "Histogramm:\n"
     ]
    },
    {
     "data": {
      "image/png": "[encoded data removed]",
      "text/plain": [
       "<Figure size 432x288 with 1 Axes>"
      ]
     },
     "metadata": {
      "needs_background": "light"
     },
     "output_type": "display_data"
    },
    {
     "name": "stdout",
     "output_type": "stream",
     "text": [
      "Skewed distribution\n",
      "Minimum sqft_lot reasonable?\n",
      "520->yes\n",
      "Plot with regression line:\n"
     ]
    },
    {
     "data": {
      "image/png": "[encoded data removed]",
      "text/plain": [
       "<Figure size 432x288 with 1 Axes>"
      ]
     },
     "metadata": {
      "needs_background": "light"
     },
     "output_type": "display_data"
    },
    {
     "name": "stdout",
     "output_type": "stream",
     "text": [
      "b=528135.565447902\n",
      "m=0.7963941645815935\n",
      "Positive correlation between the two variables\n"
     ]
    }
   ],
   "source": [
    "# Boxplot\n",
    "print(\"Boxplot:\")\n",
    "plt.boxplot(x=houses[\"sqft_lot\"])\n",
    "plt.show()\n",
    "\n",
    "# Histogramm\n",
    "print(\"Histogramm:\")\n",
    "plt.hist(x=houses[\"sqft_lot\"], bins=1000)\n",
    "plt.show()\n",
    "\n",
    "print(\"Skewed distribution\")\n",
    "\n",
    "# Is minimum sqft_lot reliable?\n",
    "print(\"Minimum sqft_lot reasonable?\")\n",
    "print(str(min(houses[\"sqft_lot\"]))+\"->yes\")\n",
    "\n",
    "# scatterplot\n",
    "\n",
    "## define x and y\n",
    "x = houses['sqft_lot']\n",
    "y = houses[\"price\"]\n",
    "## calculate b and m of linear regression\n",
    "m, b = np.polyfit(x, y, 1)\n",
    "\n",
    "## plot relationship\n",
    "print(\"Plot with regression line:\")\n",
    "plt.plot(x, y, 'o')\n",
    "plt.plot(x, m*x + b)\n",
    "plt.show()\n",
    "\n",
    "print(\"b=\"+str(b))\n",
    "print(\"m=\"+str(m))\n",
    "\n",
    "print(\"Positive correlation between the two variables\")\n"
   ]
  },
  {
   "cell_type": "markdown",
   "metadata": {},
   "source": [
    "#### variable floors:"
   ]
  },
  {
   "cell_type": "code",
   "execution_count": 12,
   "metadata": {},
   "outputs": [
    {
     "name": "stdout",
     "output_type": "stream",
     "text": [
      "[1.  2.  1.5 3.  2.5 3.5]\n",
      "Count per number of floors\n",
      "1.0    10675\n",
      "2.0     8234\n",
      "1.5     1910\n",
      "3.0      611\n",
      "2.5      161\n",
      "3.5        7\n",
      "Name: floors, dtype: int64\n",
      "Mean price for each number of floors:\n"
     ]
    },
    {
     "data": {
      "text/plain": [
       "<seaborn.axisgrid.FacetGrid at 0x1ef97c3f430>"
      ]
     },
     "execution_count": 12,
     "metadata": {},
     "output_type": "execute_result"
    },
    {
     "data": {
      "image/png": "[encoded data removed]",
      "text/plain": [
       "<Figure size 360x360 with 1 Axes>"
      ]
     },
     "metadata": {
      "needs_background": "light"
     },
     "output_type": "display_data"
    }
   ],
   "source": [
    "# values \n",
    "print(houses[\"floors\"].unique())\n",
    "\n",
    "# floors as categorical variable\n",
    "houses[\"floors\"] = houses[\"floors\"].astype(\"category\")\n",
    "\n",
    "# count per number of floors\n",
    "print(\"Count per number of floors\")\n",
    "print(houses[\"floors\"].value_counts())\n",
    "\n",
    "# reorder categories\n",
    "floors_categories = np.sort(np.array(houses[\"floors\"].unique()))\n",
    "houses[\"floors\"] = pd.Categorical(houses[\"floors\"], categories=floors_categories)\n",
    "\n",
    "# mean price per bathroom count\n",
    "floors_mean = houses.groupby(\"floors\", as_index=False)[\"price\"].mean()\n",
    "\n",
    "# barplot\n",
    "print(\"Mean price for each number of floors:\")\n",
    "snb.catplot(x=\"floors\", y=\"price\", data=floors_mean, kind=\"bar\")"
   ]
  },
  {
   "cell_type": "markdown",
   "metadata": {},
   "source": [
    "#### variable waterfront:"
   ]
  },
  {
   "cell_type": "code",
   "execution_count": 13,
   "metadata": {},
   "outputs": [
    {
     "name": "stdout",
     "output_type": "stream",
     "text": [
      "[0 1]\n",
      "Count per waterfront category\n",
      "0    21435\n",
      "1      163\n",
      "Name: waterfront, dtype: int64\n",
      "Mean price for each waterfront category:\n"
     ]
    },
    {
     "data": {
      "text/plain": [
       "<seaborn.axisgrid.FacetGrid at 0x1ef97c9a370>"
      ]
     },
     "execution_count": 13,
     "metadata": {},
     "output_type": "execute_result"
    },
    {
     "data": {
      "image/png": "[encoded data removed]",
      "text/plain": [
       "<Figure size 360x360 with 1 Axes>"
      ]
     },
     "metadata": {
      "needs_background": "light"
     },
     "output_type": "display_data"
    }
   ],
   "source": [
    "# values \n",
    "print(houses[\"waterfront\"].unique())\n",
    "\n",
    "# floors as categorical variable\n",
    "houses[\"waterfront\"] = houses[\"waterfront\"].astype(\"category\")\n",
    "\n",
    "# count per waterfront category\n",
    "print(\"Count per waterfront category\")\n",
    "print(houses[\"waterfront\"].value_counts())\n",
    "\n",
    "# reorder categories\n",
    "waterfront_categories = np.sort(np.array(houses[\"waterfront\"].unique()))\n",
    "houses[\"waterfront\"] = pd.Categorical(houses[\"waterfront\"], categories=waterfront_categories)\n",
    "\n",
    "# mean price per bathroom count\n",
    "waterfront_mean = houses.groupby(\"waterfront\", as_index=False)[\"price\"].mean()\n",
    "\n",
    "# barplot\n",
    "print(\"Mean price for each waterfront category:\")\n",
    "snb.catplot(x=\"waterfront\", y=\"price\", data=waterfront_mean, kind=\"bar\")"
   ]
  },
  {
   "cell_type": "markdown",
   "metadata": {},
   "source": [
    "#### variable view:"
   ]
  },
  {
   "cell_type": "code",
   "execution_count": 14,
   "metadata": {},
   "outputs": [
    {
     "name": "stdout",
     "output_type": "stream",
     "text": [
      "[0 3 4 2 1]\n",
      "Count per view category\n",
      "0    19476\n",
      "2      961\n",
      "3      510\n",
      "1      332\n",
      "4      319\n",
      "Name: view, dtype: int64\n",
      "Mean price for each view category:\n"
     ]
    },
    {
     "data": {
      "text/plain": [
       "<seaborn.axisgrid.FacetGrid at 0x1ef97ac3e80>"
      ]
     },
     "execution_count": 14,
     "metadata": {},
     "output_type": "execute_result"
    },
    {
     "data": {
      "image/png": "[encoded data removed]",
      "text/plain": [
       "<Figure size 360x360 with 1 Axes>"
      ]
     },
     "metadata": {
      "needs_background": "light"
     },
     "output_type": "display_data"
    }
   ],
   "source": [
    "# values \n",
    "print(houses[\"view\"].unique())\n",
    "\n",
    "# view as categorical variable\n",
    "houses[\"view\"] = houses[\"view\"].astype(\"category\")\n",
    "\n",
    "# count per view category\n",
    "print(\"Count per view category\")\n",
    "print(houses[\"view\"].value_counts())\n",
    "\n",
    "# reorder categories\n",
    "view_categories = np.sort(np.array(houses[\"view\"].unique()))\n",
    "houses[\"view\"] = pd.Categorical(houses[\"view\"], categories=view_categories)\n",
    "\n",
    "# mean price per bathroom count\n",
    "view_mean = houses.groupby(\"view\", as_index=False)[\"price\"].mean()\n",
    "\n",
    "# barplot\n",
    "print(\"Mean price for each view category:\")\n",
    "snb.catplot(x=\"view\", y=\"price\", data=view_mean, kind=\"bar\")"
   ]
  },
  {
   "cell_type": "markdown",
   "metadata": {},
   "source": [
    "#### variable condition:"
   ]
  },
  {
   "cell_type": "code",
   "execution_count": 15,
   "metadata": {},
   "outputs": [
    {
     "name": "stdout",
     "output_type": "stream",
     "text": [
      "[3 5 4 1 2]\n",
      "Count per condition category\n",
      "3    14020\n",
      "4     5678\n",
      "5     1700\n",
      "2      171\n",
      "1       29\n",
      "Name: condition, dtype: int64\n",
      "Mean price for each condition category:\n"
     ]
    },
    {
     "data": {
      "text/plain": [
       "<seaborn.axisgrid.FacetGrid at 0x1ef979b57c0>"
      ]
     },
     "execution_count": 15,
     "metadata": {},
     "output_type": "execute_result"
    },
    {
     "data": {
      "image/png": "[encoded data removed]",
      "text/plain": [
       "<Figure size 360x360 with 1 Axes>"
      ]
     },
     "metadata": {
      "needs_background": "light"
     },
     "output_type": "display_data"
    }
   ],
   "source": [
    "# values \n",
    "print(houses[\"condition\"].unique())\n",
    "\n",
    "# condition as categorical variable\n",
    "houses[\"condition\"] = houses[\"condition\"].astype(\"category\")\n",
    "\n",
    "# count per condition category\n",
    "print(\"Count per condition category\")\n",
    "print(houses[\"condition\"].value_counts())\n",
    "\n",
    "# reorder categories\n",
    "condition_categories = np.sort(np.array(houses[\"condition\"].unique()))\n",
    "houses[\"condition\"] = pd.Categorical(houses[\"condition\"], categories=condition_categories)\n",
    "\n",
    "# mean price per bathroom count\n",
    "condition_mean = houses.groupby(\"condition\", as_index=False)[\"price\"].mean()\n",
    "\n",
    "# barplot\n",
    "print(\"Mean price for each condition category:\")\n",
    "snb.catplot(x=\"condition\", y=\"price\", data=condition_mean, kind=\"bar\")"
   ]
  },
  {
   "cell_type": "markdown",
   "metadata": {},
   "source": [
    "#### variable grade:"
   ]
  },
  {
   "cell_type": "code",
   "execution_count": 16,
   "metadata": {},
   "outputs": [
    {
     "name": "stdout",
     "output_type": "stream",
     "text": [
      "[ 7  6  8 11  9  5 10 12  4  3 13]\n",
      "Count per grade category\n",
      "7     8973\n",
      "8     6065\n",
      "9     2615\n",
      "6     2038\n",
      "10    1134\n",
      "11     399\n",
      "5      242\n",
      "12      89\n",
      "4       27\n",
      "13      13\n",
      "3        3\n",
      "Name: grade, dtype: int64\n",
      "Mean price for each grade category:\n"
     ]
    },
    {
     "data": {
      "text/plain": [
       "<seaborn.axisgrid.FacetGrid at 0x1ef97f8d0d0>"
      ]
     },
     "execution_count": 16,
     "metadata": {},
     "output_type": "execute_result"
    },
    {
     "data": {
      "image/png": "[encoded data removed]",
      "text/plain": [
       "<Figure size 360x360 with 1 Axes>"
      ]
     },
     "metadata": {
      "needs_background": "light"
     },
     "output_type": "display_data"
    }
   ],
   "source": [
    "# values \n",
    "print(houses[\"grade\"].unique())\n",
    "\n",
    "# grade as categorical variable\n",
    "houses[\"grade\"] = houses[\"grade\"].astype(\"category\")\n",
    "\n",
    "# count per grade category\n",
    "print(\"Count per grade category\")\n",
    "print(houses[\"grade\"].value_counts())\n",
    "\n",
    "# reorder categories\n",
    "grade_categories = np.sort(np.array(houses[\"grade\"].unique()))\n",
    "houses[\"grade\"] = pd.Categorical(houses[\"grade\"], categories=grade_categories)\n",
    "\n",
    "# mean price per bathroom count\n",
    "grade_mean = houses.groupby(\"grade\", as_index=False)[\"price\"].mean()\n",
    "\n",
    "# barplot\n",
    "print(\"Mean price for each grade category:\")\n",
    "snb.catplot(x=\"grade\", y=\"price\", data=grade_mean, kind=\"bar\")"
   ]
  },
  {
   "cell_type": "markdown",
   "metadata": {},
   "source": [
    "#### variable sqft_above: "
   ]
  },
  {
   "cell_type": "code",
   "execution_count": 17,
   "metadata": {},
   "outputs": [
    {
     "name": "stdout",
     "output_type": "stream",
     "text": [
      "Boxplot:\n"
     ]
    },
    {
     "data": {
      "image/png": "[encoded data removed]",
      "text/plain": [
       "<Figure size 432x288 with 1 Axes>"
      ]
     },
     "metadata": {
      "needs_background": "light"
     },
     "output_type": "display_data"
    },
    {
     "name": "stdout",
     "output_type": "stream",
     "text": [
      "Histogramm:\n"
     ]
    },
    {
     "data": {
      "image/png": "[encoded data removed]",
      "text/plain": [
       "<Figure size 432x288 with 1 Axes>"
      ]
     },
     "metadata": {
      "needs_background": "light"
     },
     "output_type": "display_data"
    },
    {
     "name": "stdout",
     "output_type": "stream",
     "text": [
      "Skewed distribution\n",
      "Minimum sqft_above reasonable?\n",
      "370->yes\n",
      "Plot with regression line:\n"
     ]
    },
    {
     "data": {
      "image/png": "[encoded data removed]",
      "text/plain": [
       "<Figure size 432x288 with 1 Axes>"
      ]
     },
     "metadata": {
      "needs_background": "light"
     },
     "output_type": "display_data"
    },
    {
     "name": "stdout",
     "output_type": "stream",
     "text": [
      "b=59945.32195257138\n",
      "m=268.5112420120544\n",
      "Positive correlation between the two variables\n"
     ]
    }
   ],
   "source": [
    "# Boxplot\n",
    "print(\"Boxplot:\")\n",
    "plt.boxplot(x=houses[\"sqft_above\"])\n",
    "plt.show()\n",
    "\n",
    "# Histogramm\n",
    "print(\"Histogramm:\")\n",
    "plt.hist(x=houses[\"sqft_above\"], bins=1000)\n",
    "plt.show()\n",
    "\n",
    "print(\"Skewed distribution\")\n",
    "\n",
    "# Is minimum sqft_above reliable?\n",
    "print(\"Minimum sqft_above reasonable?\")\n",
    "print(str(min(houses[\"sqft_above\"]))+\"->yes\")\n",
    "\n",
    "# scatterplot\n",
    "\n",
    "## define x and y\n",
    "x = houses['sqft_above']\n",
    "y = houses[\"price\"]\n",
    "## calculate b and m of linear regression\n",
    "m, b = np.polyfit(x, y, 1)\n",
    "\n",
    "## plot relationship\n",
    "print(\"Plot with regression line:\")\n",
    "plt.plot(x, y, 'o')\n",
    "plt.plot(x, m*x + b)\n",
    "plt.show()\n",
    "\n",
    "print(\"b=\"+str(b))\n",
    "print(\"m=\"+str(m))\n",
    "\n",
    "print(\"Positive correlation between the two variables\")"
   ]
  },
  {
   "cell_type": "markdown",
   "metadata": {},
   "source": [
    "#### variable sqft_basement: "
   ]
  },
  {
   "cell_type": "code",
   "execution_count": 18,
   "metadata": {},
   "outputs": [
    {
     "name": "stdout",
     "output_type": "stream",
     "text": [
      "Boxplot:\n"
     ]
    },
    {
     "data": {
      "image/png": "[encoded data removed]",
      "text/plain": [
       "<Figure size 432x288 with 1 Axes>"
      ]
     },
     "metadata": {
      "needs_background": "light"
     },
     "output_type": "display_data"
    },
    {
     "name": "stdout",
     "output_type": "stream",
     "text": [
      "Histogramm:\n"
     ]
    },
    {
     "data": {
      "image/png": "[encoded data removed]",
      "text/plain": [
       "<Figure size 432x288 with 1 Axes>"
      ]
     },
     "metadata": {
      "needs_background": "light"
     },
     "output_type": "display_data"
    },
    {
     "name": "stdout",
     "output_type": "stream",
     "text": [
      "Skewed distribution\n",
      "Minimum sqft_basement reasonable?\n",
      "0->yes. It appears that some houses do not have a basement\n",
      "Plot with regression line:\n"
     ]
    },
    {
     "data": {
      "image/png": "[encoded data removed]",
      "text/plain": [
       "<Figure size 432x288 with 1 Axes>"
      ]
     },
     "metadata": {
      "needs_background": "light"
     },
     "output_type": "display_data"
    },
    {
     "name": "stdout",
     "output_type": "stream",
     "text": [
      "b=461831.9688377292\n",
      "m=268.57271592886525\n",
      "Positive correlation between the two variables\n"
     ]
    }
   ],
   "source": [
    "# Boxplot\n",
    "print(\"Boxplot:\")\n",
    "plt.boxplot(x=houses[\"sqft_basement\"])\n",
    "plt.show()\n",
    "\n",
    "# Histogramm\n",
    "print(\"Histogramm:\")\n",
    "plt.hist(x=houses[\"sqft_basement\"], bins=1000)\n",
    "plt.show()\n",
    "\n",
    "print(\"Skewed distribution\")\n",
    "\n",
    "# Is minimum sqft_basement reliable?\n",
    "print(\"Minimum sqft_basement reasonable?\")\n",
    "print(str(min(houses[\"sqft_basement\"]))+\"->yes. It appears that some houses do not have a basement\")\n",
    "\n",
    "# scatterplot\n",
    "\n",
    "## define x and y\n",
    "x = houses['sqft_basement']\n",
    "y = houses[\"price\"]\n",
    "## calculate b and m of linear regression\n",
    "m, b = np.polyfit(x, y, 1)\n",
    "\n",
    "## plot relationship\n",
    "print(\"Plot with regression line:\")\n",
    "plt.plot(x, y, 'o')\n",
    "plt.plot(x, m*x + b)\n",
    "plt.show()\n",
    "\n",
    "print(\"b=\"+str(b))\n",
    "print(\"m=\"+str(m))\n",
    "\n",
    "print(\"Positive correlation between the two variables\")"
   ]
  },
  {
   "cell_type": "markdown",
   "metadata": {},
   "source": [
    "#### variable yr_built: "
   ]
  },
  {
   "cell_type": "code",
   "execution_count": 19,
   "metadata": {},
   "outputs": [
    {
     "name": "stdout",
     "output_type": "stream",
     "text": [
      "Boxplot:\n"
     ]
    },
    {
     "data": {
      "image/png": "[encoded data removed]",
      "text/plain": [
       "<Figure size 432x288 with 1 Axes>"
      ]
     },
     "metadata": {
      "needs_background": "light"
     },
     "output_type": "display_data"
    },
    {
     "name": "stdout",
     "output_type": "stream",
     "text": [
      "Histogramm:\n"
     ]
    },
    {
     "data": {
      "image/png": "[encoded data removed]",
      "text/plain": [
       "<Figure size 432x288 with 1 Axes>"
      ]
     },
     "metadata": {
      "needs_background": "light"
     },
     "output_type": "display_data"
    },
    {
     "name": "stdout",
     "output_type": "stream",
     "text": [
      "Skewed distribution\n",
      "Plot with regression line:\n"
     ]
    },
    {
     "data": {
      "image/png": "[encoded data removed]",
      "text/plain": [
       "<Figure size 432x288 with 1 Axes>"
      ]
     },
     "metadata": {
      "needs_background": "light"
     },
     "output_type": "display_data"
    },
    {
     "name": "stdout",
     "output_type": "stream",
     "text": [
      "b=-790925.757199739\n",
      "m=675.3364516091369\n",
      "Not obvious correlation between the two variables\n"
     ]
    }
   ],
   "source": [
    "# Boxplot\n",
    "print(\"Boxplot:\")\n",
    "plt.boxplot(x=houses[\"yr_built\"])\n",
    "plt.show()\n",
    "\n",
    "# Histogramm\n",
    "print(\"Histogramm:\")\n",
    "plt.hist(x=houses[\"yr_built\"], bins=1000)\n",
    "plt.show()\n",
    "\n",
    "print(\"Skewed distribution\")\n",
    "\n",
    "# scatterplot\n",
    "\n",
    "## define x and y\n",
    "x = houses['yr_built']\n",
    "y = houses[\"price\"]\n",
    "## calculate b and m of linear regression\n",
    "m, b = np.polyfit(x, y, 1)\n",
    "\n",
    "## plot relationship\n",
    "print(\"Plot with regression line:\")\n",
    "plt.plot(x, y, 'o')\n",
    "plt.plot(x, m*x + b)\n",
    "plt.show()\n",
    "\n",
    "print(\"b=\"+str(b))\n",
    "print(\"m=\"+str(m))\n",
    "\n",
    "print(\"Not obvious correlation between the two variables\")"
   ]
  },
  {
   "cell_type": "markdown",
   "metadata": {},
   "source": [
    "#### variable yr_renovated:"
   ]
  },
  {
   "cell_type": "code",
   "execution_count": 20,
   "metadata": {},
   "outputs": [
    {
     "name": "stdout",
     "output_type": "stream",
     "text": [
      "Boxplot:\n"
     ]
    },
    {
     "data": {
      "image/png": "[encoded data removed]",
      "text/plain": [
       "<Figure size 432x288 with 1 Axes>"
      ]
     },
     "metadata": {
      "needs_background": "light"
     },
     "output_type": "display_data"
    },
    {
     "name": "stdout",
     "output_type": "stream",
     "text": [
      "Histogramm:\n"
     ]
    },
    {
     "data": {
      "image/png": "[encoded data removed]",
      "text/plain": [
       "<Figure size 432x288 with 1 Axes>"
      ]
     },
     "metadata": {
      "needs_background": "light"
     },
     "output_type": "display_data"
    },
    {
     "name": "stdout",
     "output_type": "stream",
     "text": [
      "[0 1]\n",
      "Count per renovated category\n",
      "0    20685\n",
      "1      913\n",
      "Name: renovated, dtype: int64\n",
      "Mean price for each renovated category:\n"
     ]
    },
    {
     "data": {
      "text/plain": [
       "<seaborn.axisgrid.FacetGrid at 0x1ef99aa1ac0>"
      ]
     },
     "execution_count": 20,
     "metadata": {},
     "output_type": "execute_result"
    },
    {
     "data": {
      "image/png": "[encoded data removed]",
      "text/plain": [
       "<Figure size 360x360 with 1 Axes>"
      ]
     },
     "metadata": {
      "needs_background": "light"
     },
     "output_type": "display_data"
    }
   ],
   "source": [
    "# Boxplot\n",
    "print(\"Boxplot:\")\n",
    "plt.boxplot(x=houses[\"yr_renovated\"])\n",
    "plt.show()\n",
    "\n",
    "# Histogramm\n",
    "print(\"Histogramm:\")\n",
    "plt.hist(x=houses[\"yr_renovated\"], bins=1000)\n",
    "plt.show()\n",
    "\n",
    "# create a dummy for renovated (since not all houses were renovated)\n",
    "houses[\"renovated\"] = (houses[\"yr_renovated\"] > 0).astype(int)\n",
    "\n",
    "# drop yr_renovated variable\n",
    "houses = houses.drop(\"yr_renovated\", axis=1)\n",
    "\n",
    "# values \n",
    "print(houses[\"renovated\"].unique())\n",
    "\n",
    "# renovated as categorical variable\n",
    "houses[\"renovated\"] = houses[\"renovated\"].astype(\"category\")\n",
    "\n",
    "# count per renovated category\n",
    "print(\"Count per renovated category\")\n",
    "print(houses[\"renovated\"].value_counts())\n",
    "\n",
    "# reorder categories\n",
    "yr_renovated_categories = np.sort(np.array(houses[\"renovated\"].unique()))\n",
    "houses[\"renovated\"] = pd.Categorical(houses[\"renovated\"], categories=yr_renovated_categories)\n",
    "\n",
    "# mean price per bathroom count\n",
    "yr_renovated_mean = houses.groupby(\"renovated\", as_index=False)[\"price\"].mean()\n",
    "\n",
    "# barplot\n",
    "print(\"Mean price for each renovated category:\")\n",
    "snb.catplot(x=\"renovated\", y=\"price\", data=yr_renovated_mean, kind=\"bar\")"
   ]
  },
  {
   "cell_type": "markdown",
   "metadata": {},
   "source": [
    "**Because a lot of houses were never renovated, a dummy variable was created to distinguish between renovated and not renovated houses**"
   ]
  },
  {
   "cell_type": "markdown",
   "metadata": {},
   "source": [
    "#### variable zipcode:"
   ]
  },
  {
   "cell_type": "code",
   "execution_count": 21,
   "metadata": {},
   "outputs": [
    {
     "data": {
      "text/plain": [
       "date             datetime64[ns]\n",
       "price                   float64\n",
       "bedrooms               category\n",
       "bathrooms              category\n",
       "sqft_living               int64\n",
       "sqft_lot                  int64\n",
       "floors                 category\n",
       "waterfront             category\n",
       "view                   category\n",
       "condition              category\n",
       "grade                  category\n",
       "sqft_above                int64\n",
       "sqft_basement             int64\n",
       "yr_built                  int64\n",
       "lat                     float64\n",
       "long                    float64\n",
       "sqft_living15             int64\n",
       "sqft_lot15                int64\n",
       "renovated              category\n",
       "dtype: object"
      ]
     },
     "execution_count": 21,
     "metadata": {},
     "output_type": "execute_result"
    }
   ],
   "source": [
    "# Because zip code does not contain more information as lattitude and longitude, it is removed from the data\n",
    "houses = houses.drop(\"zipcode\", axis=1)\n",
    "houses.dtypes"
   ]
  },
  {
   "cell_type": "markdown",
   "metadata": {},
   "source": [
    "#### variable lat:"
   ]
  },
  {
   "cell_type": "code",
   "execution_count": 22,
   "metadata": {},
   "outputs": [
    {
     "name": "stdout",
     "output_type": "stream",
     "text": [
      "Boxplot:\n"
     ]
    },
    {
     "data": {
      "image/png": "[encoded data removed]",
      "text/plain": [
       "<Figure size 432x288 with 1 Axes>"
      ]
     },
     "metadata": {
      "needs_background": "light"
     },
     "output_type": "display_data"
    },
    {
     "name": "stdout",
     "output_type": "stream",
     "text": [
      "Histogramm:\n"
     ]
    },
    {
     "data": {
      "image/png": "[encoded data removed]",
      "text/plain": [
       "<Figure size 432x288 with 1 Axes>"
      ]
     },
     "metadata": {
      "needs_background": "light"
     },
     "output_type": "display_data"
    },
    {
     "name": "stdout",
     "output_type": "stream",
     "text": [
      "Minimal latitude:\n",
      "47.1559\n",
      "Maximal latitude:\n",
      "47.7776\n",
      "No unrealistic values\n"
     ]
    }
   ],
   "source": [
    "# Boxplot\n",
    "print(\"Boxplot:\")\n",
    "plt.boxplot(x=houses[\"lat\"])\n",
    "plt.show()\n",
    "\n",
    "# Histogramm\n",
    "print(\"Histogramm:\")\n",
    "plt.hist(x=houses[\"lat\"], bins=1000)\n",
    "plt.show()\n",
    "\n",
    "# Any unrealistic values?\n",
    "print(\"Minimal latitude:\")\n",
    "print(min(houses[\"lat\"]))\n",
    "print(\"Maximal latitude:\")\n",
    "print(max(houses[\"lat\"]))\n",
    "print(\"No unrealistic values\")"
   ]
  },
  {
   "cell_type": "markdown",
   "metadata": {},
   "source": [
    "#### variable long:"
   ]
  },
  {
   "cell_type": "code",
   "execution_count": 23,
   "metadata": {},
   "outputs": [
    {
     "name": "stdout",
     "output_type": "stream",
     "text": [
      "Boxplot:\n"
     ]
    },
    {
     "data": {
      "image/png": "[encoded data removed]",
      "text/plain": [
       "<Figure size 432x288 with 1 Axes>"
      ]
     },
     "metadata": {
      "needs_background": "light"
     },
     "output_type": "display_data"
    },
    {
     "name": "stdout",
     "output_type": "stream",
     "text": [
      "Histogramm:\n"
     ]
    },
    {
     "data": {
      "image/png": "[encoded data removed]",
      "text/plain": [
       "<Figure size 432x288 with 1 Axes>"
      ]
     },
     "metadata": {
      "needs_background": "light"
     },
     "output_type": "display_data"
    },
    {
     "name": "stdout",
     "output_type": "stream",
     "text": [
      "Minimal longitude:\n",
      "-122.51899999999999\n",
      "Maximal longitude:\n",
      "-121.315\n",
      "No unrealistic values\n"
     ]
    }
   ],
   "source": [
    "# Boxplot\n",
    "print(\"Boxplot:\")\n",
    "plt.boxplot(x=houses[\"long\"])\n",
    "plt.show()\n",
    "\n",
    "# Histogramm\n",
    "print(\"Histogramm:\")\n",
    "plt.hist(x=houses[\"long\"], bins=1000)\n",
    "plt.show()\n",
    "\n",
    "# Any unrealistic values?\n",
    "print(\"Minimal longitude:\")\n",
    "print(min(houses[\"long\"]))\n",
    "print(\"Maximal longitude:\")\n",
    "print(max(houses[\"long\"]))\n",
    "print(\"No unrealistic values\")"
   ]
  },
  {
   "cell_type": "markdown",
   "metadata": {},
   "source": [
    "#### variable sqft_living15:"
   ]
  },
  {
   "cell_type": "code",
   "execution_count": 24,
   "metadata": {},
   "outputs": [
    {
     "name": "stdout",
     "output_type": "stream",
     "text": [
      "Boxplot:\n"
     ]
    },
    {
     "data": {
      "image/png": "[encoded data removed]",
      "text/plain": [
       "<Figure size 432x288 with 1 Axes>"
      ]
     },
     "metadata": {
      "needs_background": "light"
     },
     "output_type": "display_data"
    },
    {
     "name": "stdout",
     "output_type": "stream",
     "text": [
      "Histogramm:\n"
     ]
    },
    {
     "data": {
      "image/png": "[encoded data removed]",
      "text/plain": [
       "<Figure size 432x288 with 1 Axes>"
      ]
     },
     "metadata": {
      "needs_background": "light"
     },
     "output_type": "display_data"
    },
    {
     "name": "stdout",
     "output_type": "stream",
     "text": [
      "Different to sqft_living?\n",
      "Yes, it is different\n"
     ]
    },
    {
     "data": {
      "image/png": "[encoded data removed]",
      "text/plain": [
       "<Figure size 432x288 with 1 Axes>"
      ]
     },
     "metadata": {
      "needs_background": "light"
     },
     "output_type": "display_data"
    }
   ],
   "source": [
    "# Boxplot\n",
    "print(\"Boxplot:\")\n",
    "plt.boxplot(x=houses[\"sqft_living15\"])\n",
    "plt.show()\n",
    "\n",
    "# Histogramm\n",
    "print(\"Histogramm:\")\n",
    "plt.hist(x=houses[\"sqft_living15\"], bins=1000)\n",
    "plt.show()\n",
    "\n",
    "# Scatterplot to see what is difference between sqft_living and sqft_living15\n",
    "print(\"Different to sqft_living?\")\n",
    "x = houses[\"sqft_living\"]\n",
    "y = houses[\"sqft_living15\"]\n",
    "plt.scatter(x,y)\n",
    "print(\"Yes, it is different\")\n"
   ]
  },
  {
   "cell_type": "markdown",
   "metadata": {},
   "source": [
    "#### variable sqft_lot15:"
   ]
  },
  {
   "cell_type": "code",
   "execution_count": 25,
   "metadata": {},
   "outputs": [
    {
     "name": "stdout",
     "output_type": "stream",
     "text": [
      "Boxplot:\n"
     ]
    },
    {
     "data": {
      "image/png": "[encoded data removed]",
      "text/plain": [
       "<Figure size 432x288 with 1 Axes>"
      ]
     },
     "metadata": {
      "needs_background": "light"
     },
     "output_type": "display_data"
    },
    {
     "name": "stdout",
     "output_type": "stream",
     "text": [
      "Histogramm:\n"
     ]
    },
    {
     "data": {
      "image/png": "[encoded data removed]",
      "text/plain": [
       "<Figure size 432x288 with 1 Axes>"
      ]
     },
     "metadata": {
      "needs_background": "light"
     },
     "output_type": "display_data"
    },
    {
     "name": "stdout",
     "output_type": "stream",
     "text": [
      "Different to sqft_lot?\n",
      "Yes, it is different\n"
     ]
    },
    {
     "data": {
      "image/png": "[encoded data removed]",
      "text/plain": [
       "<Figure size 432x288 with 1 Axes>"
      ]
     },
     "metadata": {
      "needs_background": "light"
     },
     "output_type": "display_data"
    }
   ],
   "source": [
    "# Boxplot\n",
    "print(\"Boxplot:\")\n",
    "plt.boxplot(x=houses[\"sqft_lot15\"])\n",
    "plt.show()\n",
    "\n",
    "# Histogramm\n",
    "print(\"Histogramm:\")\n",
    "plt.hist(x=houses[\"sqft_lot15\"], bins=1000)\n",
    "plt.show()\n",
    "\n",
    "# Scatterplot to see what is difference between sqft_lot and sqft_lot15\n",
    "print(\"Different to sqft_lot?\")\n",
    "x = houses[\"sqft_lot\"]\n",
    "y = houses[\"sqft_lot15\"]\n",
    "plt.scatter(x,y)\n",
    "print(\"Yes, it is different\")"
   ]
  },
  {
   "cell_type": "markdown",
   "metadata": {},
   "source": [
    "### New dataset"
   ]
  },
  {
   "cell_type": "code",
   "execution_count": 28,
   "metadata": {},
   "outputs": [
    {
     "data": {
      "text/html": [
       "<div>\n",
       "<style scoped>\n",
       "    .dataframe tbody tr th:only-of-type {\n",
       "        vertical-align: middle;\n",
       "    }\n",
       "\n",
       "    .dataframe tbody tr th {\n",
       "        vertical-align: top;\n",
       "    }\n",
       "\n",
       "    .dataframe thead th {\n",
       "        text-align: right;\n",
       "    }\n",
       "</style>\n",
       "<table border=\"1\" class=\"dataframe\">\n",
       "  <thead>\n",
       "    <tr style=\"text-align: right;\">\n",
       "      <th></th>\n",
       "      <th>date</th>\n",
       "      <th>price</th>\n",
       "      <th>bedrooms</th>\n",
       "      <th>bathrooms</th>\n",
       "      <th>sqft_living</th>\n",
       "      <th>sqft_lot</th>\n",
       "      <th>floors</th>\n",
       "      <th>waterfront</th>\n",
       "      <th>view</th>\n",
       "      <th>condition</th>\n",
       "      <th>grade</th>\n",
       "      <th>sqft_above</th>\n",
       "      <th>sqft_basement</th>\n",
       "      <th>yr_built</th>\n",
       "      <th>lat</th>\n",
       "      <th>long</th>\n",
       "      <th>sqft_living15</th>\n",
       "      <th>sqft_lot15</th>\n",
       "      <th>renovated</th>\n",
       "    </tr>\n",
       "  </thead>\n",
       "  <tbody>\n",
       "    <tr>\n",
       "      <th>0</th>\n",
       "      <td>2014-10-13</td>\n",
       "      <td>221900.0</td>\n",
       "      <td>3</td>\n",
       "      <td>1.0</td>\n",
       "      <td>1180</td>\n",
       "      <td>5650</td>\n",
       "      <td>1.0</td>\n",
       "      <td>0</td>\n",
       "      <td>0</td>\n",
       "      <td>3</td>\n",
       "      <td>7</td>\n",
       "      <td>1180</td>\n",
       "      <td>0</td>\n",
       "      <td>1955</td>\n",
       "      <td>47.5112</td>\n",
       "      <td>-122.257</td>\n",
       "      <td>1340</td>\n",
       "      <td>5650</td>\n",
       "      <td>0</td>\n",
       "    </tr>\n",
       "    <tr>\n",
       "      <th>1</th>\n",
       "      <td>2014-12-09</td>\n",
       "      <td>538000.0</td>\n",
       "      <td>3</td>\n",
       "      <td>2.0</td>\n",
       "      <td>2570</td>\n",
       "      <td>7242</td>\n",
       "      <td>2.0</td>\n",
       "      <td>0</td>\n",
       "      <td>0</td>\n",
       "      <td>3</td>\n",
       "      <td>7</td>\n",
       "      <td>2170</td>\n",
       "      <td>400</td>\n",
       "      <td>1951</td>\n",
       "      <td>47.7210</td>\n",
       "      <td>-122.319</td>\n",
       "      <td>1690</td>\n",
       "      <td>7639</td>\n",
       "      <td>1</td>\n",
       "    </tr>\n",
       "    <tr>\n",
       "      <th>2</th>\n",
       "      <td>2015-02-25</td>\n",
       "      <td>180000.0</td>\n",
       "      <td>2</td>\n",
       "      <td>1.0</td>\n",
       "      <td>770</td>\n",
       "      <td>10000</td>\n",
       "      <td>1.0</td>\n",
       "      <td>0</td>\n",
       "      <td>0</td>\n",
       "      <td>3</td>\n",
       "      <td>6</td>\n",
       "      <td>770</td>\n",
       "      <td>0</td>\n",
       "      <td>1933</td>\n",
       "      <td>47.7379</td>\n",
       "      <td>-122.233</td>\n",
       "      <td>2720</td>\n",
       "      <td>8062</td>\n",
       "      <td>0</td>\n",
       "    </tr>\n",
       "    <tr>\n",
       "      <th>3</th>\n",
       "      <td>2014-12-09</td>\n",
       "      <td>604000.0</td>\n",
       "      <td>4</td>\n",
       "      <td>3.0</td>\n",
       "      <td>1960</td>\n",
       "      <td>5000</td>\n",
       "      <td>1.0</td>\n",
       "      <td>0</td>\n",
       "      <td>0</td>\n",
       "      <td>5</td>\n",
       "      <td>7</td>\n",
       "      <td>1050</td>\n",
       "      <td>910</td>\n",
       "      <td>1965</td>\n",
       "      <td>47.5208</td>\n",
       "      <td>-122.393</td>\n",
       "      <td>1360</td>\n",
       "      <td>5000</td>\n",
       "      <td>0</td>\n",
       "    </tr>\n",
       "    <tr>\n",
       "      <th>4</th>\n",
       "      <td>2015-02-18</td>\n",
       "      <td>510000.0</td>\n",
       "      <td>3</td>\n",
       "      <td>2.0</td>\n",
       "      <td>1680</td>\n",
       "      <td>8080</td>\n",
       "      <td>1.0</td>\n",
       "      <td>0</td>\n",
       "      <td>0</td>\n",
       "      <td>3</td>\n",
       "      <td>8</td>\n",
       "      <td>1680</td>\n",
       "      <td>0</td>\n",
       "      <td>1987</td>\n",
       "      <td>47.6168</td>\n",
       "      <td>-122.045</td>\n",
       "      <td>1800</td>\n",
       "      <td>7503</td>\n",
       "      <td>0</td>\n",
       "    </tr>\n",
       "  </tbody>\n",
       "</table>\n",
       "</div>"
      ],
      "text/plain": [
       "        date     price bedrooms bathrooms  sqft_living  sqft_lot floors  \\\n",
       "0 2014-10-13  221900.0        3       1.0         1180      5650    1.0   \n",
       "1 2014-12-09  538000.0        3       2.0         2570      7242    2.0   \n",
       "2 2015-02-25  180000.0        2       1.0          770     10000    1.0   \n",
       "3 2014-12-09  604000.0        4       3.0         1960      5000    1.0   \n",
       "4 2015-02-18  510000.0        3       2.0         1680      8080    1.0   \n",
       "\n",
       "  waterfront view condition grade  sqft_above  sqft_basement  yr_built  \\\n",
       "0          0    0         3     7        1180              0      1955   \n",
       "1          0    0         3     7        2170            400      1951   \n",
       "2          0    0         3     6         770              0      1933   \n",
       "3          0    0         5     7        1050            910      1965   \n",
       "4          0    0         3     8        1680              0      1987   \n",
       "\n",
       "       lat     long  sqft_living15  sqft_lot15 renovated  \n",
       "0  47.5112 -122.257           1340        5650         0  \n",
       "1  47.7210 -122.319           1690        7639         1  \n",
       "2  47.7379 -122.233           2720        8062         0  \n",
       "3  47.5208 -122.393           1360        5000         0  \n",
       "4  47.6168 -122.045           1800        7503         0  "
      ]
     },
     "metadata": {},
     "output_type": "display_data"
    }
   ],
   "source": [
    "# again overview of data\n",
    "display(houses.head(n=5))\n",
    "\n",
    "# create new csv file with final data\n",
    "houses.to_csv(\"kc_house_data_final.csv\", sep=\",\", index=False)"
   ]
  },
  {
   "cell_type": "code",
   "execution_count": null,
   "metadata": {},
   "outputs": [],
   "source": []
  }
 ],
 "metadata": {
  "kernelspec": {
   "display_name": "Python 3",
   "language": "python",
   "name": "python3"
  },
  "language_info": {
   "codemirror_mode": {
    "name": "ipython",
    "version": 3
   },
   "file_extension": ".py",
   "mimetype": "text/x-python",
   "name": "python",
   "nbconvert_exporter": "python",
   "pygments_lexer": "ipython3",
   "version": "3.8.5"
  }
 },
 "nbformat": 4,
 "nbformat_minor": 5
}
