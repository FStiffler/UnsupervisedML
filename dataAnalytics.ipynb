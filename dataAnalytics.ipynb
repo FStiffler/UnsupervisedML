{
 "cells": [
  {
   "cell_type": "markdown",
   "metadata": {},
   "source": [
    "# Jupyter Notebook for my UML Project"
   ]
  },
  {
   "cell_type": "markdown",
   "metadata": {},
   "source": [
    "## Import packages and data"
   ]
  },
  {
   "cell_type": "code",
   "execution_count": 1,
   "metadata": {},
   "outputs": [],
   "source": [
    "# import needed packages\n",
    "import pandas as pd\n",
    "import numpy as np\n",
    "import matplotlib.pyplot as plt\n",
    "import datetime as datetime\n",
    "import seaborn as snb\n",
    "\n",
    "# load data\n",
    "houses = pd.read_csv(\"kc_house_data.csv\")\n"
   ]
  },
  {
   "cell_type": "markdown",
   "metadata": {},
   "source": [
    "## Data analysis\n",
    "\n",
    "### Variables"
   ]
  },
  {
   "cell_type": "code",
   "execution_count": 2,
   "metadata": {},
   "outputs": [
    {
     "data": {
      "text/plain": [
       "Index(['id', 'date', 'price', 'bedrooms', 'bathrooms', 'sqft_living',\n",
       "       'sqft_lot', 'floors', 'waterfront', 'view', 'condition', 'grade',\n",
       "       'sqft_above', 'sqft_basement', 'yr_built', 'yr_renovated', 'zipcode',\n",
       "       'lat', 'long', 'sqft_living15', 'sqft_lot15'],\n",
       "      dtype='object')"
      ]
     },
     "execution_count": 2,
     "metadata": {},
     "output_type": "execute_result"
    }
   ],
   "source": [
    "houses.columns"
   ]
  },
  {
   "cell_type": "markdown",
   "metadata": {},
   "source": [
    "**Variable meaning:**\n",
    "\n",
    "id = Identify number\n",
    "\n",
    "date = Date when house was sold\n",
    "\n",
    "price = House price in dollar\n",
    "\n",
    "bedrooms = Count of bedrooms\n",
    "\n",
    "bathrooms = Count of bathrooms\n",
    "\n",
    "sqft_living = Living space\n",
    "\n",
    "sqft_lot = Square footage of house on land\n",
    "\n",
    "floors= Count of floors\n",
    "\n",
    "waterfront = House on the seaside or not (1/0)\n",
    "\n",
    "view = View point of house (0 - 4)\n",
    "\n",
    "condition = Conditions point of house (0 - 5)\n",
    "\n",
    "grade = Point of house (1 - 13)\n",
    "\n",
    "sqft_above = Square footage of the above ground\n",
    "\n",
    "sqft_basement = Square footage of the below ground\n",
    "\n",
    "yr_built = The year the house was build\n",
    "\n",
    "yr_renovated = The year the house was renovated\n",
    "\n",
    "zipcode = Zipcode of house\n",
    "\n",
    "lat = Lattitude\n",
    "\n",
    "long = Longitude\n",
    "\n",
    "sqft_living15 = Living space in houses,they were sold in 2015\n",
    "\n",
    "sqft_lot15 = Square footage of house on land,the houses sold in 2015\n",
    "\n",
    "\n"
   ]
  },
  {
   "cell_type": "markdown",
   "metadata": {},
   "source": [
    "### General Overview and summary statistics:"
   ]
  },
  {
   "cell_type": "code",
   "execution_count": 3,
   "metadata": {},
   "outputs": [
    {
     "name": "stdout",
     "output_type": "stream",
     "text": [
      "The dataset has 21613 rows and 21 columns\n",
      "head\n"
     ]
    },
    {
     "data": {
      "text/html": [
       "<div>\n",
       "<style scoped>\n",
       "    .dataframe tbody tr th:only-of-type {\n",
       "        vertical-align: middle;\n",
       "    }\n",
       "\n",
       "    .dataframe tbody tr th {\n",
       "        vertical-align: top;\n",
       "    }\n",
       "\n",
       "    .dataframe thead th {\n",
       "        text-align: right;\n",
       "    }\n",
       "</style>\n",
       "<table border=\"1\" class=\"dataframe\">\n",
       "  <thead>\n",
       "    <tr style=\"text-align: right;\">\n",
       "      <th></th>\n",
       "      <th>id</th>\n",
       "      <th>date</th>\n",
       "      <th>price</th>\n",
       "      <th>bedrooms</th>\n",
       "      <th>bathrooms</th>\n",
       "      <th>sqft_living</th>\n",
       "      <th>sqft_lot</th>\n",
       "      <th>floors</th>\n",
       "      <th>waterfront</th>\n",
       "      <th>view</th>\n",
       "      <th>...</th>\n",
       "      <th>grade</th>\n",
       "      <th>sqft_above</th>\n",
       "      <th>sqft_basement</th>\n",
       "      <th>yr_built</th>\n",
       "      <th>yr_renovated</th>\n",
       "      <th>zipcode</th>\n",
       "      <th>lat</th>\n",
       "      <th>long</th>\n",
       "      <th>sqft_living15</th>\n",
       "      <th>sqft_lot15</th>\n",
       "    </tr>\n",
       "  </thead>\n",
       "  <tbody>\n",
       "    <tr>\n",
       "      <th>0</th>\n",
       "      <td>7129300520</td>\n",
       "      <td>20141013T000000</td>\n",
       "      <td>221900.0</td>\n",
       "      <td>3</td>\n",
       "      <td>1.00</td>\n",
       "      <td>1180</td>\n",
       "      <td>5650</td>\n",
       "      <td>1.0</td>\n",
       "      <td>0</td>\n",
       "      <td>0</td>\n",
       "      <td>...</td>\n",
       "      <td>7</td>\n",
       "      <td>1180</td>\n",
       "      <td>0</td>\n",
       "      <td>1955</td>\n",
       "      <td>0</td>\n",
       "      <td>98178</td>\n",
       "      <td>47.5112</td>\n",
       "      <td>-122.257</td>\n",
       "      <td>1340</td>\n",
       "      <td>5650</td>\n",
       "    </tr>\n",
       "    <tr>\n",
       "      <th>1</th>\n",
       "      <td>6414100192</td>\n",
       "      <td>20141209T000000</td>\n",
       "      <td>538000.0</td>\n",
       "      <td>3</td>\n",
       "      <td>2.25</td>\n",
       "      <td>2570</td>\n",
       "      <td>7242</td>\n",
       "      <td>2.0</td>\n",
       "      <td>0</td>\n",
       "      <td>0</td>\n",
       "      <td>...</td>\n",
       "      <td>7</td>\n",
       "      <td>2170</td>\n",
       "      <td>400</td>\n",
       "      <td>1951</td>\n",
       "      <td>1991</td>\n",
       "      <td>98125</td>\n",
       "      <td>47.7210</td>\n",
       "      <td>-122.319</td>\n",
       "      <td>1690</td>\n",
       "      <td>7639</td>\n",
       "    </tr>\n",
       "    <tr>\n",
       "      <th>2</th>\n",
       "      <td>5631500400</td>\n",
       "      <td>20150225T000000</td>\n",
       "      <td>180000.0</td>\n",
       "      <td>2</td>\n",
       "      <td>1.00</td>\n",
       "      <td>770</td>\n",
       "      <td>10000</td>\n",
       "      <td>1.0</td>\n",
       "      <td>0</td>\n",
       "      <td>0</td>\n",
       "      <td>...</td>\n",
       "      <td>6</td>\n",
       "      <td>770</td>\n",
       "      <td>0</td>\n",
       "      <td>1933</td>\n",
       "      <td>0</td>\n",
       "      <td>98028</td>\n",
       "      <td>47.7379</td>\n",
       "      <td>-122.233</td>\n",
       "      <td>2720</td>\n",
       "      <td>8062</td>\n",
       "    </tr>\n",
       "    <tr>\n",
       "      <th>3</th>\n",
       "      <td>2487200875</td>\n",
       "      <td>20141209T000000</td>\n",
       "      <td>604000.0</td>\n",
       "      <td>4</td>\n",
       "      <td>3.00</td>\n",
       "      <td>1960</td>\n",
       "      <td>5000</td>\n",
       "      <td>1.0</td>\n",
       "      <td>0</td>\n",
       "      <td>0</td>\n",
       "      <td>...</td>\n",
       "      <td>7</td>\n",
       "      <td>1050</td>\n",
       "      <td>910</td>\n",
       "      <td>1965</td>\n",
       "      <td>0</td>\n",
       "      <td>98136</td>\n",
       "      <td>47.5208</td>\n",
       "      <td>-122.393</td>\n",
       "      <td>1360</td>\n",
       "      <td>5000</td>\n",
       "    </tr>\n",
       "    <tr>\n",
       "      <th>4</th>\n",
       "      <td>1954400510</td>\n",
       "      <td>20150218T000000</td>\n",
       "      <td>510000.0</td>\n",
       "      <td>3</td>\n",
       "      <td>2.00</td>\n",
       "      <td>1680</td>\n",
       "      <td>8080</td>\n",
       "      <td>1.0</td>\n",
       "      <td>0</td>\n",
       "      <td>0</td>\n",
       "      <td>...</td>\n",
       "      <td>8</td>\n",
       "      <td>1680</td>\n",
       "      <td>0</td>\n",
       "      <td>1987</td>\n",
       "      <td>0</td>\n",
       "      <td>98074</td>\n",
       "      <td>47.6168</td>\n",
       "      <td>-122.045</td>\n",
       "      <td>1800</td>\n",
       "      <td>7503</td>\n",
       "    </tr>\n",
       "  </tbody>\n",
       "</table>\n",
       "<p>5 rows × 21 columns</p>\n",
       "</div>"
      ],
      "text/plain": [
       "           id             date     price  bedrooms  bathrooms  sqft_living  \\\n",
       "0  7129300520  20141013T000000  221900.0         3       1.00         1180   \n",
       "1  6414100192  20141209T000000  538000.0         3       2.25         2570   \n",
       "2  5631500400  20150225T000000  180000.0         2       1.00          770   \n",
       "3  2487200875  20141209T000000  604000.0         4       3.00         1960   \n",
       "4  1954400510  20150218T000000  510000.0         3       2.00         1680   \n",
       "\n",
       "   sqft_lot  floors  waterfront  view  ...  grade  sqft_above  sqft_basement  \\\n",
       "0      5650     1.0           0     0  ...      7        1180              0   \n",
       "1      7242     2.0           0     0  ...      7        2170            400   \n",
       "2     10000     1.0           0     0  ...      6         770              0   \n",
       "3      5000     1.0           0     0  ...      7        1050            910   \n",
       "4      8080     1.0           0     0  ...      8        1680              0   \n",
       "\n",
       "   yr_built  yr_renovated  zipcode      lat     long  sqft_living15  \\\n",
       "0      1955             0    98178  47.5112 -122.257           1340   \n",
       "1      1951          1991    98125  47.7210 -122.319           1690   \n",
       "2      1933             0    98028  47.7379 -122.233           2720   \n",
       "3      1965             0    98136  47.5208 -122.393           1360   \n",
       "4      1987             0    98074  47.6168 -122.045           1800   \n",
       "\n",
       "   sqft_lot15  \n",
       "0        5650  \n",
       "1        7639  \n",
       "2        8062  \n",
       "3        5000  \n",
       "4        7503  \n",
       "\n",
       "[5 rows x 21 columns]"
      ]
     },
     "metadata": {},
     "output_type": "display_data"
    },
    {
     "name": "stdout",
     "output_type": "stream",
     "text": [
      "Summary Stats:\n"
     ]
    },
    {
     "data": {
      "text/html": [
       "<div>\n",
       "<style scoped>\n",
       "    .dataframe tbody tr th:only-of-type {\n",
       "        vertical-align: middle;\n",
       "    }\n",
       "\n",
       "    .dataframe tbody tr th {\n",
       "        vertical-align: top;\n",
       "    }\n",
       "\n",
       "    .dataframe thead th {\n",
       "        text-align: right;\n",
       "    }\n",
       "</style>\n",
       "<table border=\"1\" class=\"dataframe\">\n",
       "  <thead>\n",
       "    <tr style=\"text-align: right;\">\n",
       "      <th></th>\n",
       "      <th>mean</th>\n",
       "      <th>std</th>\n",
       "      <th>min</th>\n",
       "      <th>25%</th>\n",
       "      <th>50%</th>\n",
       "      <th>75%</th>\n",
       "      <th>max</th>\n",
       "    </tr>\n",
       "  </thead>\n",
       "  <tbody>\n",
       "    <tr>\n",
       "      <th>price</th>\n",
       "      <td>540088.14</td>\n",
       "      <td>367127.20</td>\n",
       "      <td>75000.00</td>\n",
       "      <td>321950.00</td>\n",
       "      <td>450000.00</td>\n",
       "      <td>645000.00</td>\n",
       "      <td>7700000.00</td>\n",
       "    </tr>\n",
       "    <tr>\n",
       "      <th>bedrooms</th>\n",
       "      <td>3.37</td>\n",
       "      <td>0.93</td>\n",
       "      <td>0.00</td>\n",
       "      <td>3.00</td>\n",
       "      <td>3.00</td>\n",
       "      <td>4.00</td>\n",
       "      <td>33.00</td>\n",
       "    </tr>\n",
       "    <tr>\n",
       "      <th>bathrooms</th>\n",
       "      <td>2.11</td>\n",
       "      <td>0.77</td>\n",
       "      <td>0.00</td>\n",
       "      <td>1.75</td>\n",
       "      <td>2.25</td>\n",
       "      <td>2.50</td>\n",
       "      <td>8.00</td>\n",
       "    </tr>\n",
       "    <tr>\n",
       "      <th>sqft_living</th>\n",
       "      <td>2079.90</td>\n",
       "      <td>918.44</td>\n",
       "      <td>290.00</td>\n",
       "      <td>1427.00</td>\n",
       "      <td>1910.00</td>\n",
       "      <td>2550.00</td>\n",
       "      <td>13540.00</td>\n",
       "    </tr>\n",
       "    <tr>\n",
       "      <th>sqft_lot</th>\n",
       "      <td>15106.97</td>\n",
       "      <td>41420.51</td>\n",
       "      <td>520.00</td>\n",
       "      <td>5040.00</td>\n",
       "      <td>7618.00</td>\n",
       "      <td>10688.00</td>\n",
       "      <td>1651359.00</td>\n",
       "    </tr>\n",
       "    <tr>\n",
       "      <th>floors</th>\n",
       "      <td>1.49</td>\n",
       "      <td>0.54</td>\n",
       "      <td>1.00</td>\n",
       "      <td>1.00</td>\n",
       "      <td>1.50</td>\n",
       "      <td>2.00</td>\n",
       "      <td>3.50</td>\n",
       "    </tr>\n",
       "    <tr>\n",
       "      <th>waterfront</th>\n",
       "      <td>0.01</td>\n",
       "      <td>0.09</td>\n",
       "      <td>0.00</td>\n",
       "      <td>0.00</td>\n",
       "      <td>0.00</td>\n",
       "      <td>0.00</td>\n",
       "      <td>1.00</td>\n",
       "    </tr>\n",
       "    <tr>\n",
       "      <th>view</th>\n",
       "      <td>0.23</td>\n",
       "      <td>0.77</td>\n",
       "      <td>0.00</td>\n",
       "      <td>0.00</td>\n",
       "      <td>0.00</td>\n",
       "      <td>0.00</td>\n",
       "      <td>4.00</td>\n",
       "    </tr>\n",
       "    <tr>\n",
       "      <th>condition</th>\n",
       "      <td>3.41</td>\n",
       "      <td>0.65</td>\n",
       "      <td>1.00</td>\n",
       "      <td>3.00</td>\n",
       "      <td>3.00</td>\n",
       "      <td>4.00</td>\n",
       "      <td>5.00</td>\n",
       "    </tr>\n",
       "    <tr>\n",
       "      <th>grade</th>\n",
       "      <td>7.66</td>\n",
       "      <td>1.18</td>\n",
       "      <td>1.00</td>\n",
       "      <td>7.00</td>\n",
       "      <td>7.00</td>\n",
       "      <td>8.00</td>\n",
       "      <td>13.00</td>\n",
       "    </tr>\n",
       "    <tr>\n",
       "      <th>sqft_above</th>\n",
       "      <td>1788.39</td>\n",
       "      <td>828.09</td>\n",
       "      <td>290.00</td>\n",
       "      <td>1190.00</td>\n",
       "      <td>1560.00</td>\n",
       "      <td>2210.00</td>\n",
       "      <td>9410.00</td>\n",
       "    </tr>\n",
       "    <tr>\n",
       "      <th>sqft_basement</th>\n",
       "      <td>291.51</td>\n",
       "      <td>442.58</td>\n",
       "      <td>0.00</td>\n",
       "      <td>0.00</td>\n",
       "      <td>0.00</td>\n",
       "      <td>560.00</td>\n",
       "      <td>4820.00</td>\n",
       "    </tr>\n",
       "    <tr>\n",
       "      <th>yr_built</th>\n",
       "      <td>1971.01</td>\n",
       "      <td>29.37</td>\n",
       "      <td>1900.00</td>\n",
       "      <td>1951.00</td>\n",
       "      <td>1975.00</td>\n",
       "      <td>1997.00</td>\n",
       "      <td>2015.00</td>\n",
       "    </tr>\n",
       "    <tr>\n",
       "      <th>yr_renovated</th>\n",
       "      <td>84.40</td>\n",
       "      <td>401.68</td>\n",
       "      <td>0.00</td>\n",
       "      <td>0.00</td>\n",
       "      <td>0.00</td>\n",
       "      <td>0.00</td>\n",
       "      <td>2015.00</td>\n",
       "    </tr>\n",
       "    <tr>\n",
       "      <th>zipcode</th>\n",
       "      <td>98077.94</td>\n",
       "      <td>53.51</td>\n",
       "      <td>98001.00</td>\n",
       "      <td>98033.00</td>\n",
       "      <td>98065.00</td>\n",
       "      <td>98118.00</td>\n",
       "      <td>98199.00</td>\n",
       "    </tr>\n",
       "    <tr>\n",
       "      <th>lat</th>\n",
       "      <td>47.56</td>\n",
       "      <td>0.14</td>\n",
       "      <td>47.16</td>\n",
       "      <td>47.47</td>\n",
       "      <td>47.57</td>\n",
       "      <td>47.68</td>\n",
       "      <td>47.78</td>\n",
       "    </tr>\n",
       "    <tr>\n",
       "      <th>long</th>\n",
       "      <td>-122.21</td>\n",
       "      <td>0.14</td>\n",
       "      <td>-122.52</td>\n",
       "      <td>-122.33</td>\n",
       "      <td>-122.23</td>\n",
       "      <td>-122.12</td>\n",
       "      <td>-121.32</td>\n",
       "    </tr>\n",
       "    <tr>\n",
       "      <th>sqft_living15</th>\n",
       "      <td>1986.55</td>\n",
       "      <td>685.39</td>\n",
       "      <td>399.00</td>\n",
       "      <td>1490.00</td>\n",
       "      <td>1840.00</td>\n",
       "      <td>2360.00</td>\n",
       "      <td>6210.00</td>\n",
       "    </tr>\n",
       "    <tr>\n",
       "      <th>sqft_lot15</th>\n",
       "      <td>12768.46</td>\n",
       "      <td>27304.18</td>\n",
       "      <td>651.00</td>\n",
       "      <td>5100.00</td>\n",
       "      <td>7620.00</td>\n",
       "      <td>10083.00</td>\n",
       "      <td>871200.00</td>\n",
       "    </tr>\n",
       "  </tbody>\n",
       "</table>\n",
       "</div>"
      ],
      "text/plain": [
       "                    mean        std       min        25%        50%  \\\n",
       "price          540088.14  367127.20  75000.00  321950.00  450000.00   \n",
       "bedrooms            3.37       0.93      0.00       3.00       3.00   \n",
       "bathrooms           2.11       0.77      0.00       1.75       2.25   \n",
       "sqft_living      2079.90     918.44    290.00    1427.00    1910.00   \n",
       "sqft_lot        15106.97   41420.51    520.00    5040.00    7618.00   \n",
       "floors              1.49       0.54      1.00       1.00       1.50   \n",
       "waterfront          0.01       0.09      0.00       0.00       0.00   \n",
       "view                0.23       0.77      0.00       0.00       0.00   \n",
       "condition           3.41       0.65      1.00       3.00       3.00   \n",
       "grade               7.66       1.18      1.00       7.00       7.00   \n",
       "sqft_above       1788.39     828.09    290.00    1190.00    1560.00   \n",
       "sqft_basement     291.51     442.58      0.00       0.00       0.00   \n",
       "yr_built         1971.01      29.37   1900.00    1951.00    1975.00   \n",
       "yr_renovated       84.40     401.68      0.00       0.00       0.00   \n",
       "zipcode         98077.94      53.51  98001.00   98033.00   98065.00   \n",
       "lat                47.56       0.14     47.16      47.47      47.57   \n",
       "long             -122.21       0.14   -122.52    -122.33    -122.23   \n",
       "sqft_living15    1986.55     685.39    399.00    1490.00    1840.00   \n",
       "sqft_lot15      12768.46   27304.18    651.00    5100.00    7620.00   \n",
       "\n",
       "                     75%         max  \n",
       "price          645000.00  7700000.00  \n",
       "bedrooms            4.00       33.00  \n",
       "bathrooms           2.50        8.00  \n",
       "sqft_living      2550.00    13540.00  \n",
       "sqft_lot        10688.00  1651359.00  \n",
       "floors              2.00        3.50  \n",
       "waterfront          0.00        1.00  \n",
       "view                0.00        4.00  \n",
       "condition           4.00        5.00  \n",
       "grade               8.00       13.00  \n",
       "sqft_above       2210.00     9410.00  \n",
       "sqft_basement     560.00     4820.00  \n",
       "yr_built         1997.00     2015.00  \n",
       "yr_renovated        0.00     2015.00  \n",
       "zipcode         98118.00    98199.00  \n",
       "lat                47.68       47.78  \n",
       "long             -122.12     -121.32  \n",
       "sqft_living15    2360.00     6210.00  \n",
       "sqft_lot15      10083.00   871200.00  "
      ]
     },
     "metadata": {},
     "output_type": "display_data"
    },
    {
     "name": "stdout",
     "output_type": "stream",
     "text": [
      "Datatypes:\n"
     ]
    },
    {
     "data": {
      "text/plain": [
       "id                 int64\n",
       "date              object\n",
       "price            float64\n",
       "bedrooms           int64\n",
       "bathrooms        float64\n",
       "sqft_living        int64\n",
       "sqft_lot           int64\n",
       "floors           float64\n",
       "waterfront         int64\n",
       "view               int64\n",
       "condition          int64\n",
       "grade              int64\n",
       "sqft_above         int64\n",
       "sqft_basement      int64\n",
       "yr_built           int64\n",
       "yr_renovated       int64\n",
       "zipcode            int64\n",
       "lat              float64\n",
       "long             float64\n",
       "sqft_living15      int64\n",
       "sqft_lot15         int64\n",
       "dtype: object"
      ]
     },
     "metadata": {},
     "output_type": "display_data"
    },
    {
     "name": "stdout",
     "output_type": "stream",
     "text": [
      "Missing Values:\n"
     ]
    },
    {
     "data": {
      "text/plain": [
       "id               0\n",
       "date             0\n",
       "price            0\n",
       "bedrooms         0\n",
       "bathrooms        0\n",
       "sqft_living      0\n",
       "sqft_lot         0\n",
       "floors           0\n",
       "waterfront       0\n",
       "view             0\n",
       "condition        0\n",
       "grade            0\n",
       "sqft_above       0\n",
       "sqft_basement    0\n",
       "yr_built         0\n",
       "yr_renovated     0\n",
       "zipcode          0\n",
       "lat              0\n",
       "long             0\n",
       "sqft_living15    0\n",
       "sqft_lot15       0\n",
       "dtype: int64"
      ]
     },
     "metadata": {},
     "output_type": "display_data"
    },
    {
     "name": "stdout",
     "output_type": "stream",
     "text": [
      "There are no missing values\n"
     ]
    }
   ],
   "source": [
    "# overview\n",
    "print(\"The dataset has {} rows and {} columns\".format(houses.shape[0], houses.shape[1]))\n",
    "\n",
    "# head of data\n",
    "print(\"head\")\n",
    "display(houses.head(n=5))\n",
    "\n",
    "#summary stats of data\n",
    "print(\"Summary Stats:\")\n",
    "dataSummary = houses.iloc[:,1:21]\n",
    "dataSummary = pd.DataFrame(dataSummary.describe().T)\n",
    "dataSummary = dataSummary.iloc[:,1:8].round(2)\n",
    "with open('dataSummary.tex','w') as tf:\n",
    "    tf.write(dataSummary.to_latex())\n",
    "display(dataSummary)\n",
    "\n",
    "#datatype of variables\n",
    "print(\"Datatypes:\")\n",
    "display(houses.dtypes)\n",
    "\n",
    "#show missing values per column\n",
    "print(\"Missing Values:\")\n",
    "display(houses.isnull().sum())\n",
    "print(\"There are no missing values\")\n"
   ]
  },
  {
   "cell_type": "markdown",
   "metadata": {},
   "source": [
    "### Transformation of variables and filtering of data\n",
    "\n",
    "#### variable id:"
   ]
  },
  {
   "cell_type": "code",
   "execution_count": 4,
   "metadata": {},
   "outputs": [
    {
     "data": {
      "text/html": [
       "<div>\n",
       "<style scoped>\n",
       "    .dataframe tbody tr th:only-of-type {\n",
       "        vertical-align: middle;\n",
       "    }\n",
       "\n",
       "    .dataframe tbody tr th {\n",
       "        vertical-align: top;\n",
       "    }\n",
       "\n",
       "    .dataframe thead th {\n",
       "        text-align: right;\n",
       "    }\n",
       "</style>\n",
       "<table border=\"1\" class=\"dataframe\">\n",
       "  <thead>\n",
       "    <tr style=\"text-align: right;\">\n",
       "      <th></th>\n",
       "      <th>date</th>\n",
       "      <th>price</th>\n",
       "      <th>bedrooms</th>\n",
       "      <th>bathrooms</th>\n",
       "      <th>sqft_living</th>\n",
       "      <th>sqft_lot</th>\n",
       "      <th>floors</th>\n",
       "      <th>waterfront</th>\n",
       "      <th>view</th>\n",
       "      <th>condition</th>\n",
       "      <th>grade</th>\n",
       "      <th>sqft_above</th>\n",
       "      <th>sqft_basement</th>\n",
       "      <th>yr_built</th>\n",
       "      <th>yr_renovated</th>\n",
       "      <th>zipcode</th>\n",
       "      <th>lat</th>\n",
       "      <th>long</th>\n",
       "      <th>sqft_living15</th>\n",
       "      <th>sqft_lot15</th>\n",
       "    </tr>\n",
       "  </thead>\n",
       "  <tbody>\n",
       "    <tr>\n",
       "      <th>0</th>\n",
       "      <td>20141013T000000</td>\n",
       "      <td>221900.0</td>\n",
       "      <td>3</td>\n",
       "      <td>1.0</td>\n",
       "      <td>1180</td>\n",
       "      <td>5650</td>\n",
       "      <td>1.0</td>\n",
       "      <td>0</td>\n",
       "      <td>0</td>\n",
       "      <td>3</td>\n",
       "      <td>7</td>\n",
       "      <td>1180</td>\n",
       "      <td>0</td>\n",
       "      <td>1955</td>\n",
       "      <td>0</td>\n",
       "      <td>98178</td>\n",
       "      <td>47.5112</td>\n",
       "      <td>-122.257</td>\n",
       "      <td>1340</td>\n",
       "      <td>5650</td>\n",
       "    </tr>\n",
       "  </tbody>\n",
       "</table>\n",
       "</div>"
      ],
      "text/plain": [
       "              date     price  bedrooms  bathrooms  sqft_living  sqft_lot  \\\n",
       "0  20141013T000000  221900.0         3        1.0         1180      5650   \n",
       "\n",
       "   floors  waterfront  view  condition  grade  sqft_above  sqft_basement  \\\n",
       "0     1.0           0     0          3      7        1180              0   \n",
       "\n",
       "   yr_built  yr_renovated  zipcode      lat     long  sqft_living15  \\\n",
       "0      1955             0    98178  47.5112 -122.257           1340   \n",
       "\n",
       "   sqft_lot15  \n",
       "0        5650  "
      ]
     },
     "execution_count": 4,
     "metadata": {},
     "output_type": "execute_result"
    }
   ],
   "source": [
    "# remove variable id because it is not of any value here\n",
    "houses = houses.drop(\"id\", axis=1)\n",
    "houses.head(1)"
   ]
  },
  {
   "cell_type": "markdown",
   "metadata": {},
   "source": [
    "#### variable date:\n",
    "Because date is a string variable, convert it to a datetime variable"
   ]
  },
  {
   "cell_type": "code",
   "execution_count": 5,
   "metadata": {},
   "outputs": [
    {
     "name": "stdout",
     "output_type": "stream",
     "text": [
      "New datatype:\n"
     ]
    },
    {
     "data": {
      "text/plain": [
       "dtype('<M8[ns]')"
      ]
     },
     "metadata": {},
     "output_type": "display_data"
    },
    {
     "name": "stdout",
     "output_type": "stream",
     "text": [
      "First date in timeseries:\n"
     ]
    },
    {
     "data": {
      "text/plain": [
       "array(['2014-05-02T00:00:00.000000000'], dtype='datetime64[ns]')"
      ]
     },
     "metadata": {},
     "output_type": "display_data"
    },
    {
     "name": "stdout",
     "output_type": "stream",
     "text": [
      "Last date in timeseries\n"
     ]
    },
    {
     "data": {
      "text/plain": [
       "array(['2015-05-27T00:00:00.000000000'], dtype='datetime64[ns]')"
      ]
     },
     "metadata": {},
     "output_type": "display_data"
    },
    {
     "name": "stdout",
     "output_type": "stream",
     "text": [
      "Plot with regression line:\n"
     ]
    },
    {
     "data": {
      "image/png": "[encoded data removed]",
      "text/plain": [
       "<Figure size 432x288 with 1 Axes>"
      ]
     },
     "metadata": {
      "needs_background": "light"
     },
     "output_type": "display_data"
    },
    {
     "name": "stdout",
     "output_type": "stream",
     "text": [
      "b=10946780.412601756\n",
      "m=-14.148462736749375\n",
      "There seems not to be a strong correlation. After all the time impact is only a reduction in price of 14 dollars\n"
     ]
    },
    {
     "data": {
      "text/html": [
       "<div>\n",
       "<style scoped>\n",
       "    .dataframe tbody tr th:only-of-type {\n",
       "        vertical-align: middle;\n",
       "    }\n",
       "\n",
       "    .dataframe tbody tr th {\n",
       "        vertical-align: top;\n",
       "    }\n",
       "\n",
       "    .dataframe thead th {\n",
       "        text-align: right;\n",
       "    }\n",
       "</style>\n",
       "<table border=\"1\" class=\"dataframe\">\n",
       "  <thead>\n",
       "    <tr style=\"text-align: right;\">\n",
       "      <th></th>\n",
       "      <th>price</th>\n",
       "      <th>bedrooms</th>\n",
       "      <th>bathrooms</th>\n",
       "      <th>sqft_living</th>\n",
       "      <th>sqft_lot</th>\n",
       "      <th>floors</th>\n",
       "      <th>waterfront</th>\n",
       "      <th>view</th>\n",
       "      <th>condition</th>\n",
       "      <th>grade</th>\n",
       "      <th>sqft_above</th>\n",
       "      <th>sqft_basement</th>\n",
       "      <th>yr_built</th>\n",
       "      <th>yr_renovated</th>\n",
       "      <th>zipcode</th>\n",
       "      <th>lat</th>\n",
       "      <th>long</th>\n",
       "      <th>sqft_living15</th>\n",
       "      <th>sqft_lot15</th>\n",
       "    </tr>\n",
       "  </thead>\n",
       "  <tbody>\n",
       "    <tr>\n",
       "      <th>0</th>\n",
       "      <td>221900.0</td>\n",
       "      <td>3</td>\n",
       "      <td>1.0</td>\n",
       "      <td>1180</td>\n",
       "      <td>5650</td>\n",
       "      <td>1.0</td>\n",
       "      <td>0</td>\n",
       "      <td>0</td>\n",
       "      <td>3</td>\n",
       "      <td>7</td>\n",
       "      <td>1180</td>\n",
       "      <td>0</td>\n",
       "      <td>1955</td>\n",
       "      <td>0</td>\n",
       "      <td>98178</td>\n",
       "      <td>47.5112</td>\n",
       "      <td>-122.257</td>\n",
       "      <td>1340</td>\n",
       "      <td>5650</td>\n",
       "    </tr>\n",
       "  </tbody>\n",
       "</table>\n",
       "</div>"
      ],
      "text/plain": [
       "      price  bedrooms  bathrooms  sqft_living  sqft_lot  floors  waterfront  \\\n",
       "0  221900.0         3        1.0         1180      5650     1.0           0   \n",
       "\n",
       "   view  condition  grade  sqft_above  sqft_basement  yr_built  yr_renovated  \\\n",
       "0     0          3      7        1180              0      1955             0   \n",
       "\n",
       "   zipcode      lat     long  sqft_living15  sqft_lot15  \n",
       "0    98178  47.5112 -122.257           1340        5650  "
      ]
     },
     "execution_count": 5,
     "metadata": {},
     "output_type": "execute_result"
    }
   ],
   "source": [
    "# date column as series\n",
    "string = houses[\"date\"]\n",
    "\n",
    "# slice string to remove unnessecary characters\n",
    "string = string.str.slice(0,8)\n",
    "\n",
    "# convert series to datetime\n",
    "date = pd.to_datetime(string, \n",
    "                     format= \"%Y%m%d\")\n",
    "\n",
    "# replace date variable in housesFinal dataframe\n",
    "houses[\"date\"] = date\n",
    "\n",
    "# Look at datatype and format of date after transformation\n",
    "print(\"New datatype:\")\n",
    "display(houses[\"date\"].dtypes)\n",
    "\n",
    "# First date\n",
    "print(\"First date in timeseries:\")\n",
    "display(houses.loc[(houses[\"date\"] == min(houses[\"date\"])), \"date\"].unique())\n",
    "\n",
    "# Last date\n",
    "print(\"Last date in timeseries\")\n",
    "display(houses.loc[(houses[\"date\"] == max(houses[\"date\"])), \"date\"].unique())\n",
    "\n",
    "# scatterplot\n",
    "\n",
    "## to also plot regression line convert date to ordinal\n",
    "x = houses['date'].map(datetime.datetime.toordinal)\n",
    "y = houses[\"price\"]\n",
    "## calculate b and m of linear regression\n",
    "m, b = np.polyfit(x, y, 1)\n",
    "\n",
    "## plot relationship\n",
    "print(\"Plot with regression line:\")\n",
    "plt.plot(x, y, 'o')\n",
    "plt.plot(x, m*x + b)\n",
    "plt.show()\n",
    "\n",
    "print(\"b=\"+str(b))\n",
    "print(\"m=\"+str(m))\n",
    "\n",
    "print(\"There seems not to be a strong correlation. After all the time impact is only a reduction in price of 14 dollars\")\n",
    "\n",
    "#remove the variable because it seems not be reasonable to keep it\n",
    "houses = houses.drop(\"date\", axis=1)\n",
    "houses.head(1)\n"
   ]
  },
  {
   "cell_type": "markdown",
   "metadata": {},
   "source": [
    "#### variable price:"
   ]
  },
  {
   "cell_type": "code",
   "execution_count": 6,
   "metadata": {
    "scrolled": false
   },
   "outputs": [
    {
     "name": "stdout",
     "output_type": "stream",
     "text": [
      "Boxplot:\n"
     ]
    },
    {
     "data": {
      "image/png": "[encoded data removed]",
      "text/plain": [
       "<Figure size 432x288 with 1 Axes>"
      ]
     },
     "metadata": {
      "needs_background": "light"
     },
     "output_type": "display_data"
    },
    {
     "name": "stdout",
     "output_type": "stream",
     "text": [
      "Histogramm:\n"
     ]
    },
    {
     "data": {
      "image/png": "[encoded data removed]",
      "text/plain": [
       "<Figure size 432x288 with 1 Axes>"
      ]
     },
     "metadata": {
      "needs_background": "light"
     },
     "output_type": "display_data"
    },
    {
     "name": "stdout",
     "output_type": "stream",
     "text": [
      "Skewed distribution\n",
      "Minimum price reasonable?\n",
      "75000.0->yes\n"
     ]
    }
   ],
   "source": [
    "# Boxplot\n",
    "print(\"Boxplot:\")\n",
    "plt.boxplot(x=houses[\"price\"])\n",
    "plt.show()\n",
    "\n",
    "# Histogramm\n",
    "print(\"Histogramm:\")\n",
    "plt.hist(x=houses[\"price\"], bins=1000)\n",
    "plt.show()\n",
    "\n",
    "# Minimum price\n",
    "print(\"Skewed distribution\")\n",
    "\n",
    "# Is minimum price reliable?\n",
    "print(\"Minimum price reasonable?\")\n",
    "print(str(min(houses[\"price\"]))+\"->yes\")\n",
    "\n"
   ]
  },
  {
   "cell_type": "markdown",
   "metadata": {},
   "source": [
    "#### variable bedroom:"
   ]
  },
  {
   "cell_type": "code",
   "execution_count": 7,
   "metadata": {},
   "outputs": [
    {
     "name": "stdout",
     "output_type": "stream",
     "text": [
      "Count per number of bedrooms\n",
      "3     9824\n",
      "4     6882\n",
      "2     2760\n",
      "5     1601\n",
      "6      272\n",
      "1      199\n",
      "7       38\n",
      "8       13\n",
      "0       13\n",
      "9        6\n",
      "10       3\n",
      "33       1\n",
      "11       1\n",
      "Name: bedrooms, dtype: int64\n",
      "Mean price for each number of bedrooms:\n"
     ]
    },
    {
     "data": {
      "text/plain": [
       "<seaborn.axisgrid.FacetGrid at 0x1c70f11adf0>"
      ]
     },
     "execution_count": 7,
     "metadata": {},
     "output_type": "execute_result"
    },
    {
     "data": {
      "image/png": "[encoded data removed]",
      "text/plain": [
       "<Figure size 360x360 with 1 Axes>"
      ]
     },
     "metadata": {
      "needs_background": "light"
     },
     "output_type": "display_data"
    }
   ],
   "source": [
    "# bedrooms as categorical variable\n",
    "houses[\"bedrooms\"] = houses[\"bedrooms\"].astype(\"category\")\n",
    "\n",
    "# count per number of bedrooms \n",
    "print(\"Count per number of bedrooms\")\n",
    "print(houses[\"bedrooms\"].value_counts())\n",
    "\n",
    "# reorder categories\n",
    "bedroom_categories =[0,1,2,3,4,5,6,7,8,9,10,11,33]\n",
    "houses[\"bedrooms\"] = pd.Categorical(houses[\"bedrooms\"], categories=bedroom_categories)\n",
    "\n",
    "# mean price per bedroom count\n",
    "bedrooms_mean = houses.groupby(\"bedrooms\", as_index=False)[\"price\"].mean()\n",
    "\n",
    "# barplot\n",
    "print(\"Mean price for each number of bedrooms:\")\n",
    "snb.catplot(x=\"bedrooms\", y=\"price\", data=bedrooms_mean, kind=\"bar\")"
   ]
  },
  {
   "cell_type": "markdown",
   "metadata": {},
   "source": [
    "**Need to remove 0, 11 and 33 bedrooms from data because either missing data (when 0) or only 1 observation (11 and 33)**"
   ]
  },
  {
   "cell_type": "code",
   "execution_count": 8,
   "metadata": {},
   "outputs": [
    {
     "name": "stdout",
     "output_type": "stream",
     "text": [
      "Mean price for each number of bedrooms:\n"
     ]
    },
    {
     "data": {
      "text/plain": [
       "<seaborn.axisgrid.FacetGrid at 0x1c709c615b0>"
      ]
     },
     "execution_count": 8,
     "metadata": {},
     "output_type": "execute_result"
    },
    {
     "data": {
      "image/png": "[encoded data removed]",
      "text/plain": [
       "<Figure size 360x360 with 1 Axes>"
      ]
     },
     "metadata": {
      "needs_background": "light"
     },
     "output_type": "display_data"
    }
   ],
   "source": [
    "# Remove observations with 0, 11 and 33 bedrooms\n",
    "houses = houses.loc[ ~ houses[\"bedrooms\"].isin([0,11,33]), ]\n",
    "\n",
    "# Remove the categories as well\n",
    "houses[\"bedrooms\"] = houses[\"bedrooms\"].cat.remove_categories(removals=[0,11,33])\n",
    "\n",
    "# mean price per bedroom count\n",
    "bedrooms_mean = houses.groupby(\"bedrooms\", as_index=False)[\"price\"].mean()\n",
    "\n",
    "# barplot\n",
    "print(\"Mean price for each number of bedrooms:\")\n",
    "snb.catplot(x=\"bedrooms\", y=\"price\", data=bedrooms_mean, kind=\"bar\")\n"
   ]
  },
  {
   "cell_type": "markdown",
   "metadata": {},
   "source": [
    "#### variable bathrooms:"
   ]
  },
  {
   "cell_type": "code",
   "execution_count": 9,
   "metadata": {},
   "outputs": [
    {
     "name": "stdout",
     "output_type": "stream",
     "text": [
      "[1.   2.25 3.   2.   4.5  1.5  2.5  1.75 2.75 3.25 4.   3.5  0.75 4.75\n",
      " 5.   4.25 3.75 1.25 0.   5.25 6.   0.5  5.5  6.75 5.75 8.   7.5  7.75\n",
      " 6.25 6.5 ]\n",
      "Count per number of bathrooms\n",
      "2.0    8469\n",
      "3.0    7903\n",
      "1.0    3935\n",
      "4.0    1101\n",
      "5.0     157\n",
      "6.0      22\n",
      "8.0       4\n",
      "7.0       4\n",
      "0.0       3\n",
      "Name: bathrooms, dtype: int64\n",
      "Mean price for each number of bedrooms:\n"
     ]
    },
    {
     "data": {
      "text/plain": [
       "<seaborn.axisgrid.FacetGrid at 0x1c70e978370>"
      ]
     },
     "metadata": {},
     "output_type": "display_data"
    },
    {
     "data": {
      "image/png": "[encoded data removed]",
      "text/plain": [
       "<Figure size 360x360 with 1 Axes>"
      ]
     },
     "metadata": {
      "needs_background": "light"
     },
     "output_type": "display_data"
    }
   ],
   "source": [
    "# values \n",
    "print(houses[\"bathrooms\"].unique())\n",
    "\n",
    "# add 0.01 (to prevent *.5) to be rounded down and apply round function to bathrooms\n",
    "houses[\"bathrooms\"] = houses[\"bathrooms\"]+0.01\n",
    "houses[\"bathrooms\"] = houses[\"bathrooms\"].round()\n",
    "\n",
    "# bathrooms as categorical variable\n",
    "houses[\"bathrooms\"] = houses[\"bathrooms\"].astype(\"category\")\n",
    "\n",
    "# count per number of bathrooms\n",
    "print(\"Count per number of bathrooms\")\n",
    "print(houses[\"bathrooms\"].value_counts())\n",
    "\n",
    "# reorder categories\n",
    "bathroom_categories = np.sort(np.array(houses[\"bathrooms\"].unique()))\n",
    "houses[\"bathrooms\"] = pd.Categorical(houses[\"bathrooms\"], categories=bathroom_categories)\n",
    "\n",
    "# mean price per bathroom count\n",
    "bathrooms_mean = houses.groupby(\"bathrooms\", as_index=False)[\"price\"].mean()\n",
    "\n",
    "# barplot\n",
    "print(\"Mean price for each number of bedrooms:\")\n",
    "display(snb.catplot(x=\"bathrooms\", y=\"price\", data=bathrooms_mean, kind=\"bar\"))\n"
   ]
  },
  {
   "cell_type": "markdown",
   "metadata": {},
   "source": [
    "**Need to remove 0, 7 and 8 bathrooms from data because only few observations**"
   ]
  },
  {
   "cell_type": "code",
   "execution_count": 10,
   "metadata": {},
   "outputs": [
    {
     "name": "stdout",
     "output_type": "stream",
     "text": [
      "Mean price for each number of bathrooms:\n"
     ]
    },
    {
     "data": {
      "text/plain": [
       "<seaborn.axisgrid.FacetGrid at 0x1c709c6d1c0>"
      ]
     },
     "execution_count": 10,
     "metadata": {},
     "output_type": "execute_result"
    },
    {
     "data": {
      "image/png": "[encoded data removed]",
      "text/plain": [
       "<Figure size 360x360 with 1 Axes>"
      ]
     },
     "metadata": {
      "needs_background": "light"
     },
     "output_type": "display_data"
    }
   ],
   "source": [
    "# Remove observations with 0, 7 and 8 bathrooms\n",
    "houses = houses.loc[ ~ houses[\"bathrooms\"].isin([0,7,8]), ]\n",
    "\n",
    "# Remove the categories as well\n",
    "houses[\"bathrooms\"] = houses[\"bathrooms\"].cat.remove_categories(removals=[0,7,8])\n",
    "\n",
    "# mean price per bedroom count\n",
    "bathrooms_mean = houses.groupby(\"bathrooms\", as_index=False)[\"price\"].mean()\n",
    "\n",
    "# barplot\n",
    "print(\"Mean price for each number of bathrooms:\")\n",
    "snb.catplot(x=\"bathrooms\", y=\"price\", data=bathrooms_mean, kind=\"bar\")"
   ]
  },
  {
   "cell_type": "markdown",
   "metadata": {},
   "source": [
    "#### variable sqft_living:"
   ]
  },
  {
   "cell_type": "code",
   "execution_count": 11,
   "metadata": {},
   "outputs": [
    {
     "name": "stdout",
     "output_type": "stream",
     "text": [
      "Boxplot:\n"
     ]
    },
    {
     "data": {
      "image/png": "[encoded data removed]",
      "text/plain": [
       "<Figure size 432x288 with 1 Axes>"
      ]
     },
     "metadata": {
      "needs_background": "light"
     },
     "output_type": "display_data"
    },
    {
     "name": "stdout",
     "output_type": "stream",
     "text": [
      "Histogramm:\n"
     ]
    },
    {
     "data": {
      "image/png": "[encoded data removed]",
      "text/plain": [
       "<Figure size 432x288 with 1 Axes>"
      ]
     },
     "metadata": {
      "needs_background": "light"
     },
     "output_type": "display_data"
    },
    {
     "name": "stdout",
     "output_type": "stream",
     "text": [
      "Skewed distribution\n",
      "Minimum sqft_living reasonable?\n",
      "370->yes\n",
      "Plot with regression line:\n"
     ]
    },
    {
     "data": {
      "image/png": "[encoded data removed]",
      "text/plain": [
       "<Figure size 432x288 with 1 Axes>"
      ]
     },
     "metadata": {
      "needs_background": "light"
     },
     "output_type": "display_data"
    },
    {
     "name": "stdout",
     "output_type": "stream",
     "text": [
      "b=-36444.928635120974\n",
      "m=277.03575820726854\n",
      "Positive correlation between the two variables\n"
     ]
    }
   ],
   "source": [
    "# Boxplot\n",
    "print(\"Boxplot:\")\n",
    "plt.boxplot(x=houses[\"sqft_living\"])\n",
    "plt.show()\n",
    "\n",
    "# Histogramm\n",
    "print(\"Histogramm:\")\n",
    "plt.hist(x=houses[\"sqft_living\"], bins=1000)\n",
    "plt.show()\n",
    "\n",
    "print(\"Skewed distribution\")\n",
    "\n",
    "# Is minimum sqft_living reliable?\n",
    "print(\"Minimum sqft_living reasonable?\")\n",
    "print(str(min(houses[\"sqft_living\"]))+\"->yes\")\n",
    "\n",
    "# scatterplot\n",
    "\n",
    "## define x and y\n",
    "x = houses['sqft_living']\n",
    "y = houses[\"price\"]\n",
    "## calculate b and m of linear regression\n",
    "m, b = np.polyfit(x, y, 1)\n",
    "\n",
    "## plot relationship\n",
    "print(\"Plot with regression line:\")\n",
    "plt.plot(x, y, 'o')\n",
    "plt.plot(x, m*x + b)\n",
    "plt.show()\n",
    "\n",
    "print(\"b=\"+str(b))\n",
    "print(\"m=\"+str(m))\n",
    "\n",
    "print(\"Positive correlation between the two variables\")\n"
   ]
  },
  {
   "cell_type": "markdown",
   "metadata": {},
   "source": [
    "#### variable sqft_lot:"
   ]
  },
  {
   "cell_type": "code",
   "execution_count": 12,
   "metadata": {},
   "outputs": [
    {
     "name": "stdout",
     "output_type": "stream",
     "text": [
      "Boxplot:\n"
     ]
    },
    {
     "data": {
      "image/png": "[encoded data removed]",
      "text/plain": [
       "<Figure size 432x288 with 1 Axes>"
      ]
     },
     "metadata": {
      "needs_background": "light"
     },
     "output_type": "display_data"
    },
    {
     "name": "stdout",
     "output_type": "stream",
     "text": [
      "Histogramm:\n"
     ]
    },
    {
     "data": {
      "image/png": "[encoded data removed]",
      "text/plain": [
       "<Figure size 432x288 with 1 Axes>"
      ]
     },
     "metadata": {
      "needs_background": "light"
     },
     "output_type": "display_data"
    },
    {
     "name": "stdout",
     "output_type": "stream",
     "text": [
      "Skewed distribution\n",
      "Minimum sqft_lot reasonable?\n",
      "520->yes\n",
      "Plot with regression line:\n"
     ]
    },
    {
     "data": {
      "image/png": "[encoded data removed]",
      "text/plain": [
       "<Figure size 432x288 with 1 Axes>"
      ]
     },
     "metadata": {
      "needs_background": "light"
     },
     "output_type": "display_data"
    },
    {
     "name": "stdout",
     "output_type": "stream",
     "text": [
      "b=527502.0427716939\n",
      "m=0.7747984530074691\n",
      "Positive correlation between the two variables\n"
     ]
    }
   ],
   "source": [
    "# Boxplot\n",
    "print(\"Boxplot:\")\n",
    "plt.boxplot(x=houses[\"sqft_lot\"])\n",
    "plt.show()\n",
    "\n",
    "# Histogramm\n",
    "print(\"Histogramm:\")\n",
    "plt.hist(x=houses[\"sqft_lot\"], bins=1000)\n",
    "plt.show()\n",
    "\n",
    "print(\"Skewed distribution\")\n",
    "\n",
    "# Is minimum sqft_lot reliable?\n",
    "print(\"Minimum sqft_lot reasonable?\")\n",
    "print(str(min(houses[\"sqft_lot\"]))+\"->yes\")\n",
    "\n",
    "# scatterplot\n",
    "\n",
    "## define x and y\n",
    "x = houses['sqft_lot']\n",
    "y = houses[\"price\"]\n",
    "## calculate b and m of linear regression\n",
    "m, b = np.polyfit(x, y, 1)\n",
    "\n",
    "## plot relationship\n",
    "print(\"Plot with regression line:\")\n",
    "plt.plot(x, y, 'o')\n",
    "plt.plot(x, m*x + b)\n",
    "plt.show()\n",
    "\n",
    "print(\"b=\"+str(b))\n",
    "print(\"m=\"+str(m))\n",
    "\n",
    "print(\"Positive correlation between the two variables\")\n"
   ]
  },
  {
   "cell_type": "markdown",
   "metadata": {},
   "source": [
    "#### variable floors:"
   ]
  },
  {
   "cell_type": "code",
   "execution_count": 13,
   "metadata": {},
   "outputs": [
    {
     "name": "stdout",
     "output_type": "stream",
     "text": [
      "[1.  2.  1.5 3.  2.5 3.5]\n",
      "Count per number of floors\n",
      "1.0    10671\n",
      "2.0     8229\n",
      "1.5     1910\n",
      "3.0      610\n",
      "2.5      160\n",
      "3.5        7\n",
      "Name: floors, dtype: int64\n",
      "Mean price for each number of floors:\n"
     ]
    },
    {
     "data": {
      "text/plain": [
       "<seaborn.axisgrid.FacetGrid at 0x1c70f487910>"
      ]
     },
     "execution_count": 13,
     "metadata": {},
     "output_type": "execute_result"
    },
    {
     "data": {
      "image/png": "[encoded data removed]",
      "text/plain": [
       "<Figure size 360x360 with 1 Axes>"
      ]
     },
     "metadata": {
      "needs_background": "light"
     },
     "output_type": "display_data"
    }
   ],
   "source": [
    "# values \n",
    "print(houses[\"floors\"].unique())\n",
    "\n",
    "# floors as categorical variable\n",
    "houses[\"floors\"] = houses[\"floors\"].astype(\"category\")\n",
    "\n",
    "# count per number of floors\n",
    "print(\"Count per number of floors\")\n",
    "print(houses[\"floors\"].value_counts())\n",
    "\n",
    "# reorder categories\n",
    "floors_categories = np.sort(np.array(houses[\"floors\"].unique()))\n",
    "houses[\"floors\"] = pd.Categorical(houses[\"floors\"], categories=floors_categories)\n",
    "\n",
    "# mean price per bathroom count\n",
    "floors_mean = houses.groupby(\"floors\", as_index=False)[\"price\"].mean()\n",
    "\n",
    "# barplot\n",
    "print(\"Mean price for each number of floors:\")\n",
    "snb.catplot(x=\"floors\", y=\"price\", data=floors_mean, kind=\"bar\")"
   ]
  },
  {
   "cell_type": "markdown",
   "metadata": {},
   "source": [
    "#### variable waterfront:"
   ]
  },
  {
   "cell_type": "code",
   "execution_count": 14,
   "metadata": {},
   "outputs": [
    {
     "name": "stdout",
     "output_type": "stream",
     "text": [
      "[0 1]\n",
      "Count per waterfront category\n",
      "0    21425\n",
      "1      162\n",
      "Name: waterfront, dtype: int64\n",
      "Mean price for each waterfront category:\n"
     ]
    },
    {
     "data": {
      "text/plain": [
       "<seaborn.axisgrid.FacetGrid at 0x1c70f9781f0>"
      ]
     },
     "execution_count": 14,
     "metadata": {},
     "output_type": "execute_result"
    },
    {
     "data": {
      "image/png": "[encoded data removed]",
      "text/plain": [
       "<Figure size 360x360 with 1 Axes>"
      ]
     },
     "metadata": {
      "needs_background": "light"
     },
     "output_type": "display_data"
    }
   ],
   "source": [
    "# values \n",
    "print(houses[\"waterfront\"].unique())\n",
    "\n",
    "# floors as categorical variable\n",
    "houses[\"waterfront\"] = houses[\"waterfront\"].astype(\"category\")\n",
    "\n",
    "# count per waterfront category\n",
    "print(\"Count per waterfront category\")\n",
    "print(houses[\"waterfront\"].value_counts())\n",
    "\n",
    "# reorder categories\n",
    "waterfront_categories = np.sort(np.array(houses[\"waterfront\"].unique()))\n",
    "houses[\"waterfront\"] = pd.Categorical(houses[\"waterfront\"], categories=waterfront_categories)\n",
    "\n",
    "# mean price per bathroom count\n",
    "waterfront_mean = houses.groupby(\"waterfront\", as_index=False)[\"price\"].mean()\n",
    "\n",
    "# barplot\n",
    "print(\"Mean price for each waterfront category:\")\n",
    "snb.catplot(x=\"waterfront\", y=\"price\", data=waterfront_mean, kind=\"bar\")"
   ]
  },
  {
   "cell_type": "markdown",
   "metadata": {},
   "source": [
    "#### variable view:"
   ]
  },
  {
   "cell_type": "code",
   "execution_count": 15,
   "metadata": {},
   "outputs": [
    {
     "name": "stdout",
     "output_type": "stream",
     "text": [
      "[0 3 4 2 1]\n",
      "Count per view category\n",
      "0    19470\n",
      "2      960\n",
      "3      509\n",
      "1      332\n",
      "4      316\n",
      "Name: view, dtype: int64\n",
      "Mean price for each view category:\n"
     ]
    },
    {
     "data": {
      "text/plain": [
       "<seaborn.axisgrid.FacetGrid at 0x1c70f9939a0>"
      ]
     },
     "execution_count": 15,
     "metadata": {},
     "output_type": "execute_result"
    },
    {
     "data": {
      "image/png": "[encoded data removed]",
      "text/plain": [
       "<Figure size 360x360 with 1 Axes>"
      ]
     },
     "metadata": {
      "needs_background": "light"
     },
     "output_type": "display_data"
    }
   ],
   "source": [
    "# values \n",
    "print(houses[\"view\"].unique())\n",
    "\n",
    "# view as categorical variable\n",
    "houses[\"view\"] = houses[\"view\"].astype(\"category\")\n",
    "\n",
    "# count per view category\n",
    "print(\"Count per view category\")\n",
    "print(houses[\"view\"].value_counts())\n",
    "\n",
    "# reorder categories\n",
    "view_categories = np.sort(np.array(houses[\"view\"].unique()))\n",
    "houses[\"view\"] = pd.Categorical(houses[\"view\"], categories=view_categories)\n",
    "\n",
    "# mean price per bathroom count\n",
    "view_mean = houses.groupby(\"view\", as_index=False)[\"price\"].mean()\n",
    "\n",
    "# barplot\n",
    "print(\"Mean price for each view category:\")\n",
    "snb.catplot(x=\"view\", y=\"price\", data=view_mean, kind=\"bar\")"
   ]
  },
  {
   "cell_type": "markdown",
   "metadata": {},
   "source": [
    "#### variable condition:"
   ]
  },
  {
   "cell_type": "code",
   "execution_count": 16,
   "metadata": {},
   "outputs": [
    {
     "name": "stdout",
     "output_type": "stream",
     "text": [
      "[3 5 4 1 2]\n",
      "Count per condition category\n",
      "3    14012\n",
      "4     5676\n",
      "5     1700\n",
      "2      170\n",
      "1       29\n",
      "Name: condition, dtype: int64\n",
      "Mean price for each condition category:\n"
     ]
    },
    {
     "data": {
      "text/plain": [
       "<seaborn.axisgrid.FacetGrid at 0x1c70f9f40d0>"
      ]
     },
     "execution_count": 16,
     "metadata": {},
     "output_type": "execute_result"
    },
    {
     "data": {
      "image/png": "[encoded data removed]",
      "text/plain": [
       "<Figure size 360x360 with 1 Axes>"
      ]
     },
     "metadata": {
      "needs_background": "light"
     },
     "output_type": "display_data"
    }
   ],
   "source": [
    "# values \n",
    "print(houses[\"condition\"].unique())\n",
    "\n",
    "# condition as categorical variable\n",
    "houses[\"condition\"] = houses[\"condition\"].astype(\"category\")\n",
    "\n",
    "# count per condition category\n",
    "print(\"Count per condition category\")\n",
    "print(houses[\"condition\"].value_counts())\n",
    "\n",
    "# reorder categories\n",
    "condition_categories = np.sort(np.array(houses[\"condition\"].unique()))\n",
    "houses[\"condition\"] = pd.Categorical(houses[\"condition\"], categories=condition_categories)\n",
    "\n",
    "# mean price per bathroom count\n",
    "condition_mean = houses.groupby(\"condition\", as_index=False)[\"price\"].mean()\n",
    "\n",
    "# barplot\n",
    "print(\"Mean price for each condition category:\")\n",
    "snb.catplot(x=\"condition\", y=\"price\", data=condition_mean, kind=\"bar\")"
   ]
  },
  {
   "cell_type": "markdown",
   "metadata": {},
   "source": [
    "#### variable grade:"
   ]
  },
  {
   "cell_type": "code",
   "execution_count": 17,
   "metadata": {},
   "outputs": [
    {
     "name": "stdout",
     "output_type": "stream",
     "text": [
      "[ 7  6  8 11  9  5 10 12  4  3 13]\n",
      "Count per grade category\n",
      "7     8971\n",
      "8     6065\n",
      "9     2615\n",
      "6     2038\n",
      "10    1134\n",
      "11     397\n",
      "5      242\n",
      "12      86\n",
      "4       27\n",
      "13      11\n",
      "3        1\n",
      "Name: grade, dtype: int64\n",
      "Mean price for each grade category:\n"
     ]
    },
    {
     "data": {
      "text/plain": [
       "<seaborn.axisgrid.FacetGrid at 0x1c70f9787f0>"
      ]
     },
     "execution_count": 17,
     "metadata": {},
     "output_type": "execute_result"
    },
    {
     "data": {
      "image/png": "[encoded data removed]",
      "text/plain": [
       "<Figure size 360x360 with 1 Axes>"
      ]
     },
     "metadata": {
      "needs_background": "light"
     },
     "output_type": "display_data"
    }
   ],
   "source": [
    "# values \n",
    "print(houses[\"grade\"].unique())\n",
    "\n",
    "# grade as categorical variable\n",
    "houses[\"grade\"] = houses[\"grade\"].astype(\"category\")\n",
    "\n",
    "# count per grade category\n",
    "print(\"Count per grade category\")\n",
    "print(houses[\"grade\"].value_counts())\n",
    "\n",
    "# reorder categories\n",
    "grade_categories = np.sort(np.array(houses[\"grade\"].unique()))\n",
    "houses[\"grade\"] = pd.Categorical(houses[\"grade\"], categories=grade_categories)\n",
    "\n",
    "# mean price per bathroom count\n",
    "grade_mean = houses.groupby(\"grade\", as_index=False)[\"price\"].mean()\n",
    "\n",
    "# barplot\n",
    "print(\"Mean price for each grade category:\")\n",
    "snb.catplot(x=\"grade\", y=\"price\", data=grade_mean, kind=\"bar\")"
   ]
  },
  {
   "cell_type": "markdown",
   "metadata": {},
   "source": [
    "#### variable sqft_above: "
   ]
  },
  {
   "cell_type": "code",
   "execution_count": 18,
   "metadata": {},
   "outputs": [
    {
     "name": "stdout",
     "output_type": "stream",
     "text": [
      "Boxplot:\n"
     ]
    },
    {
     "data": {
      "image/png": "[encoded data removed]",
      "text/plain": [
       "<Figure size 432x288 with 1 Axes>"
      ]
     },
     "metadata": {
      "needs_background": "light"
     },
     "output_type": "display_data"
    },
    {
     "name": "stdout",
     "output_type": "stream",
     "text": [
      "Histogramm:\n"
     ]
    },
    {
     "data": {
      "image/png": "[encoded data removed]",
      "text/plain": [
       "<Figure size 432x288 with 1 Axes>"
      ]
     },
     "metadata": {
      "needs_background": "light"
     },
     "output_type": "display_data"
    },
    {
     "name": "stdout",
     "output_type": "stream",
     "text": [
      "Skewed distribution\n",
      "Minimum sqft_above reasonable?\n",
      "370->yes\n",
      "Plot with regression line:\n"
     ]
    },
    {
     "data": {
      "image/png": "[encoded data removed]",
      "text/plain": [
       "<Figure size 432x288 with 1 Axes>"
      ]
     },
     "metadata": {
      "needs_background": "light"
     },
     "output_type": "display_data"
    },
    {
     "name": "stdout",
     "output_type": "stream",
     "text": [
      "b=68356.7215987594\n",
      "m=263.49589692724606\n",
      "Positive correlation between the two variables\n"
     ]
    }
   ],
   "source": [
    "# Boxplot\n",
    "print(\"Boxplot:\")\n",
    "plt.boxplot(x=houses[\"sqft_above\"])\n",
    "plt.show()\n",
    "\n",
    "# Histogramm\n",
    "print(\"Histogramm:\")\n",
    "plt.hist(x=houses[\"sqft_above\"], bins=1000)\n",
    "plt.show()\n",
    "\n",
    "print(\"Skewed distribution\")\n",
    "\n",
    "# Is minimum sqft_above reliable?\n",
    "print(\"Minimum sqft_above reasonable?\")\n",
    "print(str(min(houses[\"sqft_above\"]))+\"->yes\")\n",
    "\n",
    "# scatterplot\n",
    "\n",
    "## define x and y\n",
    "x = houses['sqft_above']\n",
    "y = houses[\"price\"]\n",
    "## calculate b and m of linear regression\n",
    "m, b = np.polyfit(x, y, 1)\n",
    "\n",
    "## plot relationship\n",
    "print(\"Plot with regression line:\")\n",
    "plt.plot(x, y, 'o')\n",
    "plt.plot(x, m*x + b)\n",
    "plt.show()\n",
    "\n",
    "print(\"b=\"+str(b))\n",
    "print(\"m=\"+str(m))\n",
    "\n",
    "print(\"Positive correlation between the two variables\")"
   ]
  },
  {
   "cell_type": "markdown",
   "metadata": {},
   "source": [
    "#### variable sqft_basement: "
   ]
  },
  {
   "cell_type": "code",
   "execution_count": 19,
   "metadata": {},
   "outputs": [
    {
     "name": "stdout",
     "output_type": "stream",
     "text": [
      "Boxplot:\n"
     ]
    },
    {
     "data": {
      "image/png": "[encoded data removed]",
      "text/plain": [
       "<Figure size 432x288 with 1 Axes>"
      ]
     },
     "metadata": {
      "needs_background": "light"
     },
     "output_type": "display_data"
    },
    {
     "name": "stdout",
     "output_type": "stream",
     "text": [
      "Histogramm:\n"
     ]
    },
    {
     "data": {
      "image/png": "[encoded data removed]",
      "text/plain": [
       "<Figure size 432x288 with 1 Axes>"
      ]
     },
     "metadata": {
      "needs_background": "light"
     },
     "output_type": "display_data"
    },
    {
     "name": "stdout",
     "output_type": "stream",
     "text": [
      "Skewed distribution\n",
      "Minimum sqft_basement reasonable?\n",
      "0->yes. It appears that some houses do not have a basement\n",
      "Plot with regression line:\n"
     ]
    },
    {
     "data": {
      "image/png": "[encoded data removed]",
      "text/plain": [
       "<Figure size 432x288 with 1 Axes>"
      ]
     },
     "metadata": {
      "needs_background": "light"
     },
     "output_type": "display_data"
    },
    {
     "name": "stdout",
     "output_type": "stream",
     "text": [
      "b=463916.4461322528\n",
      "m=258.6876044853876\n",
      "Positive correlation between the two variables\n"
     ]
    }
   ],
   "source": [
    "# Boxplot\n",
    "print(\"Boxplot:\")\n",
    "plt.boxplot(x=houses[\"sqft_basement\"])\n",
    "plt.show()\n",
    "\n",
    "# Histogramm\n",
    "print(\"Histogramm:\")\n",
    "plt.hist(x=houses[\"sqft_basement\"], bins=1000)\n",
    "plt.show()\n",
    "\n",
    "print(\"Skewed distribution\")\n",
    "\n",
    "# Is minimum sqft_basement reliable?\n",
    "print(\"Minimum sqft_basement reasonable?\")\n",
    "print(str(min(houses[\"sqft_basement\"]))+\"->yes. It appears that some houses do not have a basement\")\n",
    "\n",
    "# scatterplot\n",
    "\n",
    "## define x and y\n",
    "x = houses['sqft_basement']\n",
    "y = houses[\"price\"]\n",
    "## calculate b and m of linear regression\n",
    "m, b = np.polyfit(x, y, 1)\n",
    "\n",
    "## plot relationship\n",
    "print(\"Plot with regression line:\")\n",
    "plt.plot(x, y, 'o')\n",
    "plt.plot(x, m*x + b)\n",
    "plt.show()\n",
    "\n",
    "print(\"b=\"+str(b))\n",
    "print(\"m=\"+str(m))\n",
    "\n",
    "print(\"Positive correlation between the two variables\")"
   ]
  },
  {
   "cell_type": "markdown",
   "metadata": {},
   "source": [
    "#### variable yr_built: "
   ]
  },
  {
   "cell_type": "code",
   "execution_count": 20,
   "metadata": {},
   "outputs": [
    {
     "name": "stdout",
     "output_type": "stream",
     "text": [
      "Boxplot:\n"
     ]
    },
    {
     "data": {
      "image/png": "[encoded data removed]",
      "text/plain": [
       "<Figure size 432x288 with 1 Axes>"
      ]
     },
     "metadata": {
      "needs_background": "light"
     },
     "output_type": "display_data"
    },
    {
     "name": "stdout",
     "output_type": "stream",
     "text": [
      "Histogramm:\n"
     ]
    },
    {
     "data": {
      "image/png": "[encoded data removed]",
      "text/plain": [
       "<Figure size 432x288 with 1 Axes>"
      ]
     },
     "metadata": {
      "needs_background": "light"
     },
     "output_type": "display_data"
    },
    {
     "name": "stdout",
     "output_type": "stream",
     "text": [
      "Skewed distribution\n",
      "Plot with regression line:\n"
     ]
    },
    {
     "data": {
      "image/png": "[encoded data removed]",
      "text/plain": [
       "<Figure size 432x288 with 1 Axes>"
      ]
     },
     "metadata": {
      "needs_background": "light"
     },
     "output_type": "display_data"
    },
    {
     "name": "stdout",
     "output_type": "stream",
     "text": [
      "b=-798639.9170436172\n",
      "m=678.7550606948207\n",
      "Not obvious correlation between the two variables\n"
     ]
    }
   ],
   "source": [
    "# Boxplot\n",
    "print(\"Boxplot:\")\n",
    "plt.boxplot(x=houses[\"yr_built\"])\n",
    "plt.show()\n",
    "\n",
    "# Histogramm\n",
    "print(\"Histogramm:\")\n",
    "plt.hist(x=houses[\"yr_built\"], bins=1000)\n",
    "plt.show()\n",
    "\n",
    "print(\"Skewed distribution\")\n",
    "\n",
    "# scatterplot\n",
    "\n",
    "## define x and y\n",
    "x = houses['yr_built']\n",
    "y = houses[\"price\"]\n",
    "## calculate b and m of linear regression\n",
    "m, b = np.polyfit(x, y, 1)\n",
    "\n",
    "## plot relationship\n",
    "print(\"Plot with regression line:\")\n",
    "plt.plot(x, y, 'o')\n",
    "plt.plot(x, m*x + b)\n",
    "plt.show()\n",
    "\n",
    "print(\"b=\"+str(b))\n",
    "print(\"m=\"+str(m))\n",
    "\n",
    "print(\"Not obvious correlation between the two variables\")"
   ]
  },
  {
   "cell_type": "markdown",
   "metadata": {},
   "source": [
    "#### variable yr_renovated:"
   ]
  },
  {
   "cell_type": "code",
   "execution_count": 21,
   "metadata": {},
   "outputs": [
    {
     "name": "stdout",
     "output_type": "stream",
     "text": [
      "Boxplot:\n"
     ]
    },
    {
     "data": {
      "image/png": "[encoded data removed]",
      "text/plain": [
       "<Figure size 432x288 with 1 Axes>"
      ]
     },
     "metadata": {
      "needs_background": "light"
     },
     "output_type": "display_data"
    },
    {
     "name": "stdout",
     "output_type": "stream",
     "text": [
      "Histogramm:\n"
     ]
    },
    {
     "data": {
      "image/png": "[encoded data removed]",
      "text/plain": [
       "<Figure size 432x288 with 1 Axes>"
      ]
     },
     "metadata": {
      "needs_background": "light"
     },
     "output_type": "display_data"
    },
    {
     "name": "stdout",
     "output_type": "stream",
     "text": [
      "[0 1]\n",
      "Count per renovated category\n",
      "0    20676\n",
      "1      911\n",
      "Name: renovated, dtype: int64\n",
      "Mean price for each renovated category:\n"
     ]
    },
    {
     "data": {
      "text/plain": [
       "<seaborn.axisgrid.FacetGrid at 0x1c70fec55b0>"
      ]
     },
     "execution_count": 21,
     "metadata": {},
     "output_type": "execute_result"
    },
    {
     "data": {
      "image/png": "[encoded data removed]",
      "text/plain": [
       "<Figure size 360x360 with 1 Axes>"
      ]
     },
     "metadata": {
      "needs_background": "light"
     },
     "output_type": "display_data"
    }
   ],
   "source": [
    "# Boxplot\n",
    "print(\"Boxplot:\")\n",
    "plt.boxplot(x=houses[\"yr_renovated\"])\n",
    "plt.show()\n",
    "\n",
    "# Histogramm\n",
    "print(\"Histogramm:\")\n",
    "plt.hist(x=houses[\"yr_renovated\"], bins=1000)\n",
    "plt.show()\n",
    "\n",
    "# create a dummy for renovated (since not all houses were renovated)\n",
    "houses[\"renovated\"] = (houses[\"yr_renovated\"] > 0).astype(int)\n",
    "\n",
    "# drop yr_renovated variable\n",
    "houses = houses.drop(\"yr_renovated\", axis=1)\n",
    "\n",
    "# values \n",
    "print(houses[\"renovated\"].unique())\n",
    "\n",
    "# renovated as categorical variable\n",
    "houses[\"renovated\"] = houses[\"renovated\"].astype(\"category\")\n",
    "\n",
    "# count per renovated category\n",
    "print(\"Count per renovated category\")\n",
    "print(houses[\"renovated\"].value_counts())\n",
    "\n",
    "# reorder categories\n",
    "yr_renovated_categories = np.sort(np.array(houses[\"renovated\"].unique()))\n",
    "houses[\"renovated\"] = pd.Categorical(houses[\"renovated\"], categories=yr_renovated_categories)\n",
    "\n",
    "# mean price per bathroom count\n",
    "yr_renovated_mean = houses.groupby(\"renovated\", as_index=False)[\"price\"].mean()\n",
    "\n",
    "# barplot\n",
    "print(\"Mean price for each renovated category:\")\n",
    "snb.catplot(x=\"renovated\", y=\"price\", data=yr_renovated_mean, kind=\"bar\")"
   ]
  },
  {
   "cell_type": "markdown",
   "metadata": {},
   "source": [
    "**Because a lot of houses were never renovated, a dummy variable was created to distinguish between renovated and not renovated houses**"
   ]
  },
  {
   "cell_type": "markdown",
   "metadata": {},
   "source": [
    "#### variable zipcode:"
   ]
  },
  {
   "cell_type": "code",
   "execution_count": 22,
   "metadata": {},
   "outputs": [
    {
     "data": {
      "text/plain": [
       "price             float64\n",
       "bedrooms         category\n",
       "bathrooms        category\n",
       "sqft_living         int64\n",
       "sqft_lot            int64\n",
       "floors           category\n",
       "waterfront       category\n",
       "view             category\n",
       "condition        category\n",
       "grade            category\n",
       "sqft_above          int64\n",
       "sqft_basement       int64\n",
       "yr_built            int64\n",
       "lat               float64\n",
       "long              float64\n",
       "sqft_living15       int64\n",
       "sqft_lot15          int64\n",
       "renovated        category\n",
       "dtype: object"
      ]
     },
     "execution_count": 22,
     "metadata": {},
     "output_type": "execute_result"
    }
   ],
   "source": [
    "# Because zip code does not contain more information as lattitude and longitude, it is removed from the data\n",
    "houses = houses.drop(\"zipcode\", axis=1)\n",
    "houses.dtypes"
   ]
  },
  {
   "cell_type": "markdown",
   "metadata": {},
   "source": [
    "#### variable lat:"
   ]
  },
  {
   "cell_type": "code",
   "execution_count": 23,
   "metadata": {},
   "outputs": [
    {
     "name": "stdout",
     "output_type": "stream",
     "text": [
      "Boxplot:\n"
     ]
    },
    {
     "data": {
      "image/png": "[encoded data removed]",
      "text/plain": [
       "<Figure size 432x288 with 1 Axes>"
      ]
     },
     "metadata": {
      "needs_background": "light"
     },
     "output_type": "display_data"
    },
    {
     "name": "stdout",
     "output_type": "stream",
     "text": [
      "Histogramm:\n"
     ]
    },
    {
     "data": {
      "image/png": "[encoded data removed]",
      "text/plain": [
       "<Figure size 432x288 with 1 Axes>"
      ]
     },
     "metadata": {
      "needs_background": "light"
     },
     "output_type": "display_data"
    },
    {
     "name": "stdout",
     "output_type": "stream",
     "text": [
      "Minimal latitude:\n",
      "47.1559\n",
      "Maximal latitude:\n",
      "47.7776\n",
      "No unrealistic values\n"
     ]
    }
   ],
   "source": [
    "# Boxplot\n",
    "print(\"Boxplot:\")\n",
    "plt.boxplot(x=houses[\"lat\"])\n",
    "plt.show()\n",
    "\n",
    "# Histogramm\n",
    "print(\"Histogramm:\")\n",
    "plt.hist(x=houses[\"lat\"], bins=1000)\n",
    "plt.show()\n",
    "\n",
    "# Any unrealistic values?\n",
    "print(\"Minimal latitude:\")\n",
    "print(min(houses[\"lat\"]))\n",
    "print(\"Maximal latitude:\")\n",
    "print(max(houses[\"lat\"]))\n",
    "print(\"No unrealistic values\")"
   ]
  },
  {
   "cell_type": "markdown",
   "metadata": {},
   "source": [
    "#### variable long:"
   ]
  },
  {
   "cell_type": "code",
   "execution_count": 24,
   "metadata": {},
   "outputs": [
    {
     "name": "stdout",
     "output_type": "stream",
     "text": [
      "Boxplot:\n"
     ]
    },
    {
     "data": {
      "image/png": "[encoded data removed]",
      "text/plain": [
       "<Figure size 432x288 with 1 Axes>"
      ]
     },
     "metadata": {
      "needs_background": "light"
     },
     "output_type": "display_data"
    },
    {
     "name": "stdout",
     "output_type": "stream",
     "text": [
      "Histogramm:\n"
     ]
    },
    {
     "data": {
      "image/png": "[encoded data removed]",
      "text/plain": [
       "<Figure size 432x288 with 1 Axes>"
      ]
     },
     "metadata": {
      "needs_background": "light"
     },
     "output_type": "display_data"
    },
    {
     "name": "stdout",
     "output_type": "stream",
     "text": [
      "Minimal longitude:\n",
      "-122.51899999999999\n",
      "Maximal longitude:\n",
      "-121.315\n",
      "No unrealistic values\n"
     ]
    }
   ],
   "source": [
    "# Boxplot\n",
    "print(\"Boxplot:\")\n",
    "plt.boxplot(x=houses[\"long\"])\n",
    "plt.show()\n",
    "\n",
    "# Histogramm\n",
    "print(\"Histogramm:\")\n",
    "plt.hist(x=houses[\"long\"], bins=1000)\n",
    "plt.show()\n",
    "\n",
    "# Any unrealistic values?\n",
    "print(\"Minimal longitude:\")\n",
    "print(min(houses[\"long\"]))\n",
    "print(\"Maximal longitude:\")\n",
    "print(max(houses[\"long\"]))\n",
    "print(\"No unrealistic values\")"
   ]
  },
  {
   "cell_type": "code",
   "execution_count": 25,
   "metadata": {},
   "outputs": [],
   "source": [
    "#### lat and long combined"
   ]
  },
  {
   "cell_type": "code",
   "execution_count": 26,
   "metadata": {},
   "outputs": [
    {
     "data": {
      "text/plain": [
       "<matplotlib.collections.PathCollection at 0x1c711b28a60>"
      ]
     },
     "execution_count": 26,
     "metadata": {},
     "output_type": "execute_result"
    },
    {
     "data": {
      "image/png": "[encoded data removed]",
      "text/plain": [
       "<Figure size 432x288 with 1 Axes>"
      ]
     },
     "metadata": {
      "needs_background": "light"
     },
     "output_type": "display_data"
    }
   ],
   "source": [
    "#Scatterplot to show location of houses\n",
    "plt.scatter(x=houses[\"long\"], y=houses[\"lat\"])"
   ]
  },
  {
   "cell_type": "markdown",
   "metadata": {},
   "source": [
    "#### variable sqft_living15:"
   ]
  },
  {
   "cell_type": "code",
   "execution_count": 27,
   "metadata": {},
   "outputs": [
    {
     "name": "stdout",
     "output_type": "stream",
     "text": [
      "Boxplot:\n"
     ]
    },
    {
     "data": {
      "image/png": "[encoded data removed]",
      "text/plain": [
       "<Figure size 432x288 with 1 Axes>"
      ]
     },
     "metadata": {
      "needs_background": "light"
     },
     "output_type": "display_data"
    },
    {
     "name": "stdout",
     "output_type": "stream",
     "text": [
      "Histogramm:\n"
     ]
    },
    {
     "data": {
      "image/png": "[encoded data removed]",
      "text/plain": [
       "<Figure size 432x288 with 1 Axes>"
      ]
     },
     "metadata": {
      "needs_background": "light"
     },
     "output_type": "display_data"
    },
    {
     "name": "stdout",
     "output_type": "stream",
     "text": [
      "Different to sqft_living?\n",
      "Yes, it is different\n"
     ]
    },
    {
     "data": {
      "image/png": "[encoded data removed]",
      "text/plain": [
       "<Figure size 432x288 with 1 Axes>"
      ]
     },
     "metadata": {
      "needs_background": "light"
     },
     "output_type": "display_data"
    }
   ],
   "source": [
    "# Boxplot\n",
    "print(\"Boxplot:\")\n",
    "plt.boxplot(x=houses[\"sqft_living15\"])\n",
    "plt.show()\n",
    "\n",
    "# Histogramm\n",
    "print(\"Histogramm:\")\n",
    "plt.hist(x=houses[\"sqft_living15\"], bins=1000)\n",
    "plt.show()\n",
    "\n",
    "# Scatterplot to see what is difference between sqft_living and sqft_living15\n",
    "print(\"Different to sqft_living?\")\n",
    "x = houses[\"sqft_living\"]\n",
    "y = houses[\"sqft_living15\"]\n",
    "plt.scatter(x,y)\n",
    "print(\"Yes, it is different\")\n"
   ]
  },
  {
   "cell_type": "markdown",
   "metadata": {},
   "source": [
    "#### variable sqft_lot15:"
   ]
  },
  {
   "cell_type": "code",
   "execution_count": 28,
   "metadata": {},
   "outputs": [
    {
     "name": "stdout",
     "output_type": "stream",
     "text": [
      "Boxplot:\n"
     ]
    },
    {
     "data": {
      "image/png": "[encoded data removed]",
      "text/plain": [
       "<Figure size 432x288 with 1 Axes>"
      ]
     },
     "metadata": {
      "needs_background": "light"
     },
     "output_type": "display_data"
    },
    {
     "name": "stdout",
     "output_type": "stream",
     "text": [
      "Histogramm:\n"
     ]
    },
    {
     "data": {
      "image/png": "[encoded data removed]",
      "text/plain": [
       "<Figure size 432x288 with 1 Axes>"
      ]
     },
     "metadata": {
      "needs_background": "light"
     },
     "output_type": "display_data"
    },
    {
     "name": "stdout",
     "output_type": "stream",
     "text": [
      "Different to sqft_lot?\n",
      "Yes, it is different\n"
     ]
    },
    {
     "data": {
      "image/png": "[encoded data removed]",
      "text/plain": [
       "<Figure size 432x288 with 1 Axes>"
      ]
     },
     "metadata": {
      "needs_background": "light"
     },
     "output_type": "display_data"
    }
   ],
   "source": [
    "# Boxplot\n",
    "print(\"Boxplot:\")\n",
    "plt.boxplot(x=houses[\"sqft_lot15\"])\n",
    "plt.show()\n",
    "\n",
    "# Histogramm\n",
    "print(\"Histogramm:\")\n",
    "plt.hist(x=houses[\"sqft_lot15\"], bins=1000)\n",
    "plt.show()\n",
    "\n",
    "# Scatterplot to see what is difference between sqft_lot and sqft_lot15\n",
    "print(\"Different to sqft_lot?\")\n",
    "x = houses[\"sqft_lot\"]\n",
    "y = houses[\"sqft_lot15\"]\n",
    "plt.scatter(x,y)\n",
    "print(\"Yes, it is different\")"
   ]
  },
  {
   "cell_type": "markdown",
   "metadata": {},
   "source": [
    "### New dataset"
   ]
  },
  {
   "cell_type": "code",
   "execution_count": 29,
   "metadata": {},
   "outputs": [
    {
     "data": {
      "text/html": [
       "<div>\n",
       "<style scoped>\n",
       "    .dataframe tbody tr th:only-of-type {\n",
       "        vertical-align: middle;\n",
       "    }\n",
       "\n",
       "    .dataframe tbody tr th {\n",
       "        vertical-align: top;\n",
       "    }\n",
       "\n",
       "    .dataframe thead th {\n",
       "        text-align: right;\n",
       "    }\n",
       "</style>\n",
       "<table border=\"1\" class=\"dataframe\">\n",
       "  <thead>\n",
       "    <tr style=\"text-align: right;\">\n",
       "      <th></th>\n",
       "      <th>price</th>\n",
       "      <th>bedrooms</th>\n",
       "      <th>bathrooms</th>\n",
       "      <th>sqft_living</th>\n",
       "      <th>sqft_lot</th>\n",
       "      <th>floors</th>\n",
       "      <th>waterfront</th>\n",
       "      <th>view</th>\n",
       "      <th>condition</th>\n",
       "      <th>grade</th>\n",
       "      <th>sqft_above</th>\n",
       "      <th>sqft_basement</th>\n",
       "      <th>yr_built</th>\n",
       "      <th>lat</th>\n",
       "      <th>long</th>\n",
       "      <th>sqft_living15</th>\n",
       "      <th>sqft_lot15</th>\n",
       "      <th>renovated</th>\n",
       "    </tr>\n",
       "  </thead>\n",
       "  <tbody>\n",
       "    <tr>\n",
       "      <th>0</th>\n",
       "      <td>221900.0</td>\n",
       "      <td>3</td>\n",
       "      <td>1.0</td>\n",
       "      <td>1180</td>\n",
       "      <td>5650</td>\n",
       "      <td>1.0</td>\n",
       "      <td>0</td>\n",
       "      <td>0</td>\n",
       "      <td>3</td>\n",
       "      <td>7</td>\n",
       "      <td>1180</td>\n",
       "      <td>0</td>\n",
       "      <td>1955</td>\n",
       "      <td>47.5112</td>\n",
       "      <td>-122.257</td>\n",
       "      <td>1340</td>\n",
       "      <td>5650</td>\n",
       "      <td>0</td>\n",
       "    </tr>\n",
       "    <tr>\n",
       "      <th>1</th>\n",
       "      <td>538000.0</td>\n",
       "      <td>3</td>\n",
       "      <td>2.0</td>\n",
       "      <td>2570</td>\n",
       "      <td>7242</td>\n",
       "      <td>2.0</td>\n",
       "      <td>0</td>\n",
       "      <td>0</td>\n",
       "      <td>3</td>\n",
       "      <td>7</td>\n",
       "      <td>2170</td>\n",
       "      <td>400</td>\n",
       "      <td>1951</td>\n",
       "      <td>47.7210</td>\n",
       "      <td>-122.319</td>\n",
       "      <td>1690</td>\n",
       "      <td>7639</td>\n",
       "      <td>1</td>\n",
       "    </tr>\n",
       "    <tr>\n",
       "      <th>2</th>\n",
       "      <td>180000.0</td>\n",
       "      <td>2</td>\n",
       "      <td>1.0</td>\n",
       "      <td>770</td>\n",
       "      <td>10000</td>\n",
       "      <td>1.0</td>\n",
       "      <td>0</td>\n",
       "      <td>0</td>\n",
       "      <td>3</td>\n",
       "      <td>6</td>\n",
       "      <td>770</td>\n",
       "      <td>0</td>\n",
       "      <td>1933</td>\n",
       "      <td>47.7379</td>\n",
       "      <td>-122.233</td>\n",
       "      <td>2720</td>\n",
       "      <td>8062</td>\n",
       "      <td>0</td>\n",
       "    </tr>\n",
       "    <tr>\n",
       "      <th>3</th>\n",
       "      <td>604000.0</td>\n",
       "      <td>4</td>\n",
       "      <td>3.0</td>\n",
       "      <td>1960</td>\n",
       "      <td>5000</td>\n",
       "      <td>1.0</td>\n",
       "      <td>0</td>\n",
       "      <td>0</td>\n",
       "      <td>5</td>\n",
       "      <td>7</td>\n",
       "      <td>1050</td>\n",
       "      <td>910</td>\n",
       "      <td>1965</td>\n",
       "      <td>47.5208</td>\n",
       "      <td>-122.393</td>\n",
       "      <td>1360</td>\n",
       "      <td>5000</td>\n",
       "      <td>0</td>\n",
       "    </tr>\n",
       "    <tr>\n",
       "      <th>4</th>\n",
       "      <td>510000.0</td>\n",
       "      <td>3</td>\n",
       "      <td>2.0</td>\n",
       "      <td>1680</td>\n",
       "      <td>8080</td>\n",
       "      <td>1.0</td>\n",
       "      <td>0</td>\n",
       "      <td>0</td>\n",
       "      <td>3</td>\n",
       "      <td>8</td>\n",
       "      <td>1680</td>\n",
       "      <td>0</td>\n",
       "      <td>1987</td>\n",
       "      <td>47.6168</td>\n",
       "      <td>-122.045</td>\n",
       "      <td>1800</td>\n",
       "      <td>7503</td>\n",
       "      <td>0</td>\n",
       "    </tr>\n",
       "  </tbody>\n",
       "</table>\n",
       "</div>"
      ],
      "text/plain": [
       "      price bedrooms bathrooms  sqft_living  sqft_lot floors waterfront view  \\\n",
       "0  221900.0        3       1.0         1180      5650    1.0          0    0   \n",
       "1  538000.0        3       2.0         2570      7242    2.0          0    0   \n",
       "2  180000.0        2       1.0          770     10000    1.0          0    0   \n",
       "3  604000.0        4       3.0         1960      5000    1.0          0    0   \n",
       "4  510000.0        3       2.0         1680      8080    1.0          0    0   \n",
       "\n",
       "  condition grade  sqft_above  sqft_basement  yr_built      lat     long  \\\n",
       "0         3     7        1180              0      1955  47.5112 -122.257   \n",
       "1         3     7        2170            400      1951  47.7210 -122.319   \n",
       "2         3     6         770              0      1933  47.7379 -122.233   \n",
       "3         5     7        1050            910      1965  47.5208 -122.393   \n",
       "4         3     8        1680              0      1987  47.6168 -122.045   \n",
       "\n",
       "   sqft_living15  sqft_lot15 renovated  \n",
       "0           1340        5650         0  \n",
       "1           1690        7639         1  \n",
       "2           2720        8062         0  \n",
       "3           1360        5000         0  \n",
       "4           1800        7503         0  "
      ]
     },
     "metadata": {},
     "output_type": "display_data"
    }
   ],
   "source": [
    "# again overview of data\n",
    "display(houses.head(n=5))\n",
    "\n",
    "# create new csv file with final data\n",
    "houses.to_csv(\"kc_house_data_processed.csv\", sep=\",\", index=False)"
   ]
  },
  {
   "cell_type": "code",
   "execution_count": null,
   "metadata": {},
   "outputs": [],
   "source": []
  }
 ],
 "metadata": {
  "kernelspec": {
   "display_name": "Python 3",
   "language": "python",
   "name": "python3"
  },
  "language_info": {
   "codemirror_mode": {
    "name": "ipython",
    "version": 3
   },
   "file_extension": ".py",
   "mimetype": "text/x-python",
   "name": "python",
   "nbconvert_exporter": "python",
   "pygments_lexer": "ipython3",
   "version": "3.8.5"
  }
 },
 "nbformat": 4,
 "nbformat_minor": 5
}
